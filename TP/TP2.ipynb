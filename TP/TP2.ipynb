{
 "cells": [
  {
   "cell_type": "markdown",
   "id": "7236c4d5",
   "metadata": {},
   "source": [
    "<h1 style=\"color: rgb(0, 100, 150);font-size: 2rem;font-family: 'system-ui';font-weight: bold; \">TP 2: Logistic Regression:</h1>"
   ]
  },
  {
   "cell_type": "markdown",
   "id": "a9923ebc",
   "metadata": {},
   "source": [
    "<h1 style=\"color: rgb(0, 90, 90);font-size: 1.3rem;font-family: 'Trebuchet MS', 'Lucida Sans Unicode', 'Lucida Grande', 'Lucida Sans', Arial, sans-serif;font-weight: bolder;\">Importing Python libraries</h1>"
   ]
  },
  {
   "cell_type": "code",
   "execution_count": 1,
   "id": "e759b22a",
   "metadata": {},
   "outputs": [],
   "source": [
    "import pandas as pd\n",
    "import numpy as np\n",
    "import matplotlib.pyplot as plt"
   ]
  },
  {
   "cell_type": "markdown",
   "id": "70ce3486",
   "metadata": {},
   "source": [
    "<h1 style=\"color: rgb(0, 90, 90);font-size: 1.3rem; font-family: 'Trebuchet MS', 'Lucida Sans Unicode', 'Lucida Grande', 'Lucida Sans', Arial, sans-serif;font-weight: bolder;\">Retrieving data in the form of the dataFrame</h1>"
   ]
  },
  {
   "cell_type": "code",
   "execution_count": 2,
   "id": "4d79240d",
   "metadata": {},
   "outputs": [],
   "source": [
    "df=pd.read_csv(\"ex2data1.txt\")"
   ]
  },
  {
   "cell_type": "markdown",
   "id": "b1b1be2d",
   "metadata": {},
   "source": [
    "<h1 style=\"color: rgb(0, 90, 90);font-size: 1.3rem; font-family: 'Trebuchet MS', 'Lucida Sans Unicode', 'Lucida Grande', 'Lucida Sans', Arial, sans-serif;font-weight: bolder;\">First 5 rows of the dataFrame</h1>"
   ]
  },
  {
   "cell_type": "code",
   "execution_count": 3,
   "id": "1fe2a982",
   "metadata": {},
   "outputs": [
    {
     "data": {
      "text/html": [
       "<div>\n",
       "<style scoped>\n",
       "    .dataframe tbody tr th:only-of-type {\n",
       "        vertical-align: middle;\n",
       "    }\n",
       "\n",
       "    .dataframe tbody tr th {\n",
       "        vertical-align: top;\n",
       "    }\n",
       "\n",
       "    .dataframe thead th {\n",
       "        text-align: right;\n",
       "    }\n",
       "</style>\n",
       "<table border=\"1\" class=\"dataframe\">\n",
       "  <thead>\n",
       "    <tr style=\"text-align: right;\">\n",
       "      <th></th>\n",
       "      <th>Exam1</th>\n",
       "      <th>Exam2</th>\n",
       "      <th>Admission</th>\n",
       "    </tr>\n",
       "  </thead>\n",
       "  <tbody>\n",
       "    <tr>\n",
       "      <th>0</th>\n",
       "      <td>34.623660</td>\n",
       "      <td>78.024693</td>\n",
       "      <td>0</td>\n",
       "    </tr>\n",
       "    <tr>\n",
       "      <th>1</th>\n",
       "      <td>30.286711</td>\n",
       "      <td>43.894998</td>\n",
       "      <td>0</td>\n",
       "    </tr>\n",
       "    <tr>\n",
       "      <th>2</th>\n",
       "      <td>35.847409</td>\n",
       "      <td>72.902198</td>\n",
       "      <td>0</td>\n",
       "    </tr>\n",
       "    <tr>\n",
       "      <th>3</th>\n",
       "      <td>60.182599</td>\n",
       "      <td>86.308552</td>\n",
       "      <td>1</td>\n",
       "    </tr>\n",
       "    <tr>\n",
       "      <th>4</th>\n",
       "      <td>79.032736</td>\n",
       "      <td>75.344376</td>\n",
       "      <td>1</td>\n",
       "    </tr>\n",
       "  </tbody>\n",
       "</table>\n",
       "</div>"
      ],
      "text/plain": [
       "       Exam1      Exam2  Admission\n",
       "0  34.623660  78.024693          0\n",
       "1  30.286711  43.894998          0\n",
       "2  35.847409  72.902198          0\n",
       "3  60.182599  86.308552          1\n",
       "4  79.032736  75.344376          1"
      ]
     },
     "execution_count": 3,
     "metadata": {},
     "output_type": "execute_result"
    }
   ],
   "source": [
    "df.head()"
   ]
  },
  {
   "cell_type": "markdown",
   "id": "dd7efb8e",
   "metadata": {},
   "source": [
    "<h1 style=\"color: rgb(0, 90, 90);font-size: 1.3rem; font-family: 'Trebuchet MS', 'Lucida Sans Unicode', 'Lucida Grande', 'Lucida Sans', Arial, sans-serif;font-weight: bolder;\">Last 5 rows of the dataFrame</h1>"
   ]
  },
  {
   "cell_type": "code",
   "execution_count": 4,
   "id": "a04422d6",
   "metadata": {},
   "outputs": [
    {
     "data": {
      "text/html": [
       "<div>\n",
       "<style scoped>\n",
       "    .dataframe tbody tr th:only-of-type {\n",
       "        vertical-align: middle;\n",
       "    }\n",
       "\n",
       "    .dataframe tbody tr th {\n",
       "        vertical-align: top;\n",
       "    }\n",
       "\n",
       "    .dataframe thead th {\n",
       "        text-align: right;\n",
       "    }\n",
       "</style>\n",
       "<table border=\"1\" class=\"dataframe\">\n",
       "  <thead>\n",
       "    <tr style=\"text-align: right;\">\n",
       "      <th></th>\n",
       "      <th>Exam1</th>\n",
       "      <th>Exam2</th>\n",
       "      <th>Admission</th>\n",
       "    </tr>\n",
       "  </thead>\n",
       "  <tbody>\n",
       "    <tr>\n",
       "      <th>95</th>\n",
       "      <td>83.489163</td>\n",
       "      <td>48.380286</td>\n",
       "      <td>1</td>\n",
       "    </tr>\n",
       "    <tr>\n",
       "      <th>96</th>\n",
       "      <td>42.261701</td>\n",
       "      <td>87.103851</td>\n",
       "      <td>1</td>\n",
       "    </tr>\n",
       "    <tr>\n",
       "      <th>97</th>\n",
       "      <td>99.315009</td>\n",
       "      <td>68.775409</td>\n",
       "      <td>1</td>\n",
       "    </tr>\n",
       "    <tr>\n",
       "      <th>98</th>\n",
       "      <td>55.340018</td>\n",
       "      <td>64.931938</td>\n",
       "      <td>1</td>\n",
       "    </tr>\n",
       "    <tr>\n",
       "      <th>99</th>\n",
       "      <td>74.775893</td>\n",
       "      <td>89.529813</td>\n",
       "      <td>1</td>\n",
       "    </tr>\n",
       "  </tbody>\n",
       "</table>\n",
       "</div>"
      ],
      "text/plain": [
       "        Exam1      Exam2  Admission\n",
       "95  83.489163  48.380286          1\n",
       "96  42.261701  87.103851          1\n",
       "97  99.315009  68.775409          1\n",
       "98  55.340018  64.931938          1\n",
       "99  74.775893  89.529813          1"
      ]
     },
     "execution_count": 4,
     "metadata": {},
     "output_type": "execute_result"
    }
   ],
   "source": [
    "df.tail()"
   ]
  },
  {
   "cell_type": "markdown",
   "id": "a2713abc",
   "metadata": {},
   "source": [
    "<h1 style=\"color: rgb(0, 90, 90);font-size: 1.3rem; font-family: 'Trebuchet MS', 'Lucida Sans Unicode', 'Lucida Grande', 'Lucida Sans', Arial, sans-serif;font-weight: bolder;\">Shape of the dataFrame</h1>"
   ]
  },
  {
   "cell_type": "code",
   "execution_count": 5,
   "id": "a0683399",
   "metadata": {},
   "outputs": [
    {
     "data": {
      "text/plain": [
       "(100, 3)"
      ]
     },
     "execution_count": 5,
     "metadata": {},
     "output_type": "execute_result"
    }
   ],
   "source": [
    "df.shape"
   ]
  },
  {
   "cell_type": "markdown",
   "id": "50a4709a",
   "metadata": {},
   "source": [
    "<h1 style=\"color: rgb(0, 90, 90);font-size: 1.3rem; font-family: 'Trebuchet MS', 'Lucida Sans Unicode', 'Lucida Grande', 'Lucida Sans', Arial, sans-serif;font-weight: bolder;\">Number of Null Values in each feature</h1>"
   ]
  },
  {
   "cell_type": "code",
   "execution_count": 6,
   "id": "83166620",
   "metadata": {},
   "outputs": [
    {
     "data": {
      "text/plain": [
       "Exam1        0\n",
       "Exam2        0\n",
       "Admission    0\n",
       "dtype: int64"
      ]
     },
     "execution_count": 6,
     "metadata": {},
     "output_type": "execute_result"
    }
   ],
   "source": [
    "df.isna().sum()"
   ]
  },
  {
   "cell_type": "markdown",
   "id": "dd3a218e",
   "metadata": {},
   "source": [
    "<h1 style=\"color: rgb(0, 90, 90);font-size: 1.3rem; font-family: 'Trebuchet MS', 'Lucida Sans Unicode', 'Lucida Grande', 'Lucida Sans', Arial, sans-serif;font-weight: bolder;\">Drop Duplicates rows</h1>"
   ]
  },
  {
   "cell_type": "code",
   "execution_count": 7,
   "id": "8f894fee",
   "metadata": {},
   "outputs": [],
   "source": [
    "df=df.drop_duplicates()"
   ]
  },
  {
   "cell_type": "code",
   "execution_count": 8,
   "id": "1153a0c3",
   "metadata": {},
   "outputs": [
    {
     "data": {
      "text/plain": [
       "(100, 3)"
      ]
     },
     "execution_count": 8,
     "metadata": {},
     "output_type": "execute_result"
    }
   ],
   "source": [
    "df.shape"
   ]
  },
  {
   "cell_type": "markdown",
   "id": "13070bfa",
   "metadata": {},
   "source": [
    "<h1 style=\"color: rgb(0, 90, 90);font-size: 1.3rem; font-family: 'Trebuchet MS', 'Lucida Sans Unicode', 'Lucida Grande', 'Lucida Sans', Arial, sans-serif;font-weight: bolder;\">Value counts of Admission</h1>"
   ]
  },
  {
   "cell_type": "code",
   "execution_count": 9,
   "id": "8ba6c84e",
   "metadata": {},
   "outputs": [
    {
     "data": {
      "text/plain": [
       "1    60\n",
       "0    40\n",
       "Name: Admission, dtype: int64"
      ]
     },
     "execution_count": 9,
     "metadata": {},
     "output_type": "execute_result"
    }
   ],
   "source": [
    "df[\"Admission\"].value_counts()"
   ]
  },
  {
   "cell_type": "markdown",
   "id": "c10bd286",
   "metadata": {},
   "source": [
    "<h1 style=\"color: rgb(0, 90, 90);font-size: 1.3rem; font-family: 'Trebuchet MS', 'Lucida Sans Unicode', 'Lucida Grande', 'Lucida Sans', Arial, sans-serif;font-weight: bolder;\">Information about the Dataset</h1>"
   ]
  },
  {
   "cell_type": "code",
   "execution_count": 10,
   "id": "a13ca986",
   "metadata": {},
   "outputs": [
    {
     "name": "stdout",
     "output_type": "stream",
     "text": [
      "<class 'pandas.core.frame.DataFrame'>\n",
      "Int64Index: 100 entries, 0 to 99\n",
      "Data columns (total 3 columns):\n",
      " #   Column     Non-Null Count  Dtype  \n",
      "---  ------     --------------  -----  \n",
      " 0   Exam1      100 non-null    float64\n",
      " 1   Exam2      100 non-null    float64\n",
      " 2   Admission  100 non-null    int64  \n",
      "dtypes: float64(2), int64(1)\n",
      "memory usage: 3.1 KB\n"
     ]
    }
   ],
   "source": [
    "df.info()"
   ]
  },
  {
   "cell_type": "code",
   "execution_count": 11,
   "id": "160ba04f",
   "metadata": {},
   "outputs": [
    {
     "data": {
      "text/html": [
       "<div>\n",
       "<style scoped>\n",
       "    .dataframe tbody tr th:only-of-type {\n",
       "        vertical-align: middle;\n",
       "    }\n",
       "\n",
       "    .dataframe tbody tr th {\n",
       "        vertical-align: top;\n",
       "    }\n",
       "\n",
       "    .dataframe thead th {\n",
       "        text-align: right;\n",
       "    }\n",
       "</style>\n",
       "<table border=\"1\" class=\"dataframe\">\n",
       "  <thead>\n",
       "    <tr style=\"text-align: right;\">\n",
       "      <th></th>\n",
       "      <th>Exam1</th>\n",
       "      <th>Exam2</th>\n",
       "      <th>Admission</th>\n",
       "    </tr>\n",
       "  </thead>\n",
       "  <tbody>\n",
       "    <tr>\n",
       "      <th>count</th>\n",
       "      <td>100.000000</td>\n",
       "      <td>100.000000</td>\n",
       "      <td>100.000000</td>\n",
       "    </tr>\n",
       "    <tr>\n",
       "      <th>mean</th>\n",
       "      <td>65.644274</td>\n",
       "      <td>66.221998</td>\n",
       "      <td>0.600000</td>\n",
       "    </tr>\n",
       "    <tr>\n",
       "      <th>std</th>\n",
       "      <td>19.458222</td>\n",
       "      <td>18.582783</td>\n",
       "      <td>0.492366</td>\n",
       "    </tr>\n",
       "    <tr>\n",
       "      <th>min</th>\n",
       "      <td>30.058822</td>\n",
       "      <td>30.603263</td>\n",
       "      <td>0.000000</td>\n",
       "    </tr>\n",
       "    <tr>\n",
       "      <th>25%</th>\n",
       "      <td>50.919511</td>\n",
       "      <td>48.179205</td>\n",
       "      <td>0.000000</td>\n",
       "    </tr>\n",
       "    <tr>\n",
       "      <th>50%</th>\n",
       "      <td>67.032988</td>\n",
       "      <td>67.682381</td>\n",
       "      <td>1.000000</td>\n",
       "    </tr>\n",
       "    <tr>\n",
       "      <th>75%</th>\n",
       "      <td>80.212529</td>\n",
       "      <td>79.360605</td>\n",
       "      <td>1.000000</td>\n",
       "    </tr>\n",
       "    <tr>\n",
       "      <th>max</th>\n",
       "      <td>99.827858</td>\n",
       "      <td>98.869436</td>\n",
       "      <td>1.000000</td>\n",
       "    </tr>\n",
       "  </tbody>\n",
       "</table>\n",
       "</div>"
      ],
      "text/plain": [
       "            Exam1       Exam2   Admission\n",
       "count  100.000000  100.000000  100.000000\n",
       "mean    65.644274   66.221998    0.600000\n",
       "std     19.458222   18.582783    0.492366\n",
       "min     30.058822   30.603263    0.000000\n",
       "25%     50.919511   48.179205    0.000000\n",
       "50%     67.032988   67.682381    1.000000\n",
       "75%     80.212529   79.360605    1.000000\n",
       "max     99.827858   98.869436    1.000000"
      ]
     },
     "execution_count": 11,
     "metadata": {},
     "output_type": "execute_result"
    }
   ],
   "source": [
    "df.describe()"
   ]
  },
  {
   "cell_type": "markdown",
   "id": "a11bb54e",
   "metadata": {},
   "source": [
    "<h1 style=\"color: rgb(0, 90, 90);font-size: 1.3rem; font-family: 'Trebuchet MS', 'Lucida Sans Unicode', 'Lucida Grande', 'Lucida Sans', Arial, sans-serif;font-weight: bolder;\">Data Visualization</h1>"
   ]
  },
  {
   "cell_type": "code",
   "execution_count": 12,
   "id": "1ee81382",
   "metadata": {},
   "outputs": [
    {
     "data": {
      "image/png": "[encoded data removed]",
      "text/plain": [
       "<Figure size 1080x504 with 1 Axes>"
      ]
     },
     "metadata": {
      "needs_background": "light"
     },
     "output_type": "display_data"
    }
   ],
   "source": [
    "plt.figure(figsize=(15,7))\n",
    "plt.scatter(df[\"Exam1\"][df[\"Admission\"]==1],df[\"Exam2\"][df[\"Admission\"]==1],marker=\"+\",c=\"black\")\n",
    "plt.scatter(df[\"Exam1\"][df[\"Admission\"]==0],df[\"Exam2\"][df[\"Admission\"]==0],marker=\"o\",c=\"yellow\")\n",
    "plt.legend([\"Admitted\",\"Not Admitted\"])\n",
    "plt.xlabel(\"Exam 1 Score\")\n",
    "plt.ylabel(\"Exam 2 Score\")\n",
    "plt.title(\"Figure 1; Scatter plot of training data\")\n",
    "plt.show()"
   ]
  },
  {
   "cell_type": "markdown",
   "id": "1d00c86d",
   "metadata": {},
   "source": [
    "<h1 style=\"color: rgb(0, 90, 90);font-size: 1.3rem; font-family: 'Trebuchet MS', 'Lucida Sans Unicode', 'Lucida Grande', 'Lucida Sans', Arial, sans-serif;font-weight: bolder;\">Data Normalization</h1>"
   ]
  },
  {
   "cell_type": "code",
   "execution_count": 13,
   "id": "31fecf09",
   "metadata": {},
   "outputs": [],
   "source": [
    "moyenne1=df[\"Exam1\"].mean()\n",
    "moyenne2=df[\"Exam2\"].mean()\n",
    "ecartType1=df[\"Exam1\"].std()\n",
    "ecartType2=df[\"Exam2\"].std()"
   ]
  },
  {
   "cell_type": "code",
   "execution_count": 14,
   "id": "c0383e28",
   "metadata": {},
   "outputs": [],
   "source": [
    "df[\"Exam1\"]=(df[\"Exam1\"]-df[\"Exam1\"].mean())/df[\"Exam1\"].std()\n",
    "df[\"Exam2\"]=(df[\"Exam2\"]-df[\"Exam2\"].mean())/df[\"Exam2\"].std()"
   ]
  },
  {
   "cell_type": "code",
   "execution_count": 15,
   "id": "00584d64",
   "metadata": {},
   "outputs": [
    {
     "data": {
      "text/html": [
       "<div>\n",
       "<style scoped>\n",
       "    .dataframe tbody tr th:only-of-type {\n",
       "        vertical-align: middle;\n",
       "    }\n",
       "\n",
       "    .dataframe tbody tr th {\n",
       "        vertical-align: top;\n",
       "    }\n",
       "\n",
       "    .dataframe thead th {\n",
       "        text-align: right;\n",
       "    }\n",
       "</style>\n",
       "<table border=\"1\" class=\"dataframe\">\n",
       "  <thead>\n",
       "    <tr style=\"text-align: right;\">\n",
       "      <th></th>\n",
       "      <th>Exam1</th>\n",
       "      <th>Exam2</th>\n",
       "      <th>Admission</th>\n",
       "    </tr>\n",
       "  </thead>\n",
       "  <tbody>\n",
       "    <tr>\n",
       "      <th>0</th>\n",
       "      <td>-1.594216</td>\n",
       "      <td>0.635141</td>\n",
       "      <td>0</td>\n",
       "    </tr>\n",
       "    <tr>\n",
       "      <th>1</th>\n",
       "      <td>-1.817101</td>\n",
       "      <td>-1.201489</td>\n",
       "      <td>0</td>\n",
       "    </tr>\n",
       "    <tr>\n",
       "      <th>2</th>\n",
       "      <td>-1.531325</td>\n",
       "      <td>0.359483</td>\n",
       "      <td>0</td>\n",
       "    </tr>\n",
       "    <tr>\n",
       "      <th>3</th>\n",
       "      <td>-0.280687</td>\n",
       "      <td>1.080923</td>\n",
       "      <td>1</td>\n",
       "    </tr>\n",
       "    <tr>\n",
       "      <th>4</th>\n",
       "      <td>0.688062</td>\n",
       "      <td>0.490905</td>\n",
       "      <td>1</td>\n",
       "    </tr>\n",
       "  </tbody>\n",
       "</table>\n",
       "</div>"
      ],
      "text/plain": [
       "      Exam1     Exam2  Admission\n",
       "0 -1.594216  0.635141          0\n",
       "1 -1.817101 -1.201489          0\n",
       "2 -1.531325  0.359483          0\n",
       "3 -0.280687  1.080923          1\n",
       "4  0.688062  0.490905          1"
      ]
     },
     "execution_count": 15,
     "metadata": {},
     "output_type": "execute_result"
    }
   ],
   "source": [
    "df.head()"
   ]
  },
  {
   "cell_type": "markdown",
   "id": "cb66a862",
   "metadata": {},
   "source": [
    "<h1 style=\"color: rgb(0, 90, 90);font-size: 1.3rem; font-family: 'Trebuchet MS', 'Lucida Sans Unicode', 'Lucida Grande', 'Lucida Sans', Arial, sans-serif;font-weight: bolder;\">Split the columns to features (X) and target (y)</h1>"
   ]
  },
  {
   "cell_type": "code",
   "execution_count": 16,
   "id": "bcc5044c",
   "metadata": {},
   "outputs": [],
   "source": [
    "X=df.drop(\"Admission\",axis=1).to_numpy()\n",
    "y=df[\"Admission\"].to_numpy()"
   ]
  },
  {
   "cell_type": "markdown",
   "id": "066a3a8d",
   "metadata": {},
   "source": [
    "<h1 style=\"color: rgb(0, 90, 90);font-size: 1.3rem; font-family: 'Trebuchet MS', 'Lucida Sans Unicode', 'Lucida Grande', 'Lucida Sans', Arial, sans-serif;font-weight: bolder;\">Function that calculat z=wx+b</h1>"
   ]
  },
  {
   "cell_type": "code",
   "execution_count": 17,
   "id": "8d06f509",
   "metadata": {},
   "outputs": [],
   "source": [
    "def calculZ(w,b,X):\n",
    "    return np.dot(w,X.T)+b"
   ]
  },
  {
   "cell_type": "markdown",
   "id": "09ed1b9e",
   "metadata": {},
   "source": [
    "<h1 style=\"color: rgb(0, 90, 90);font-size: 1.3rem; font-family: 'Trebuchet MS', 'Lucida Sans Unicode', 'Lucida Grande', 'Lucida Sans', Arial, sans-serif;font-weight: bolder;\">Sigmoid Function</h1>"
   ]
  },
  {
   "cell_type": "code",
   "execution_count": 18,
   "id": "08651cc1",
   "metadata": {},
   "outputs": [],
   "source": [
    "def sigmoid(z):\n",
    "    return 1/(1+np.exp(-z))"
   ]
  },
  {
   "cell_type": "markdown",
   "id": "9d59814d",
   "metadata": {},
   "source": [
    "<h1 style=\"color: rgb(0, 90, 90);font-size: 1.3rem; font-family: 'Trebuchet MS', 'Lucida Sans Unicode', 'Lucida Grande', 'Lucida Sans', Arial, sans-serif;font-weight: bolder;\">Sigmoid Function</h1>"
   ]
  },
  {
   "cell_type": "code",
   "execution_count": 19,
   "id": "9b6726cb",
   "metadata": {},
   "outputs": [],
   "source": [
    "def costFunction(y,yhat,x):\n",
    "    m=x.shape[0]\n",
    "    J=np.sum(-y*np.log(yhat)-(1-y)*np.log(1-yhat))\n",
    "#     J=np.sum(k)\n",
    "    return (J/m)"
   ]
  },
  {
   "cell_type": "markdown",
   "id": "d8b4109f",
   "metadata": {},
   "source": [
    "<h1 style=\"color: rgb(0, 90, 90);font-size: 1.3rem; font-family: 'Trebuchet MS', 'Lucida Sans Unicode', 'Lucida Grande', 'Lucida Sans', Arial, sans-serif;font-weight: bolder;\">Function that Calculate the Derivative of the Cost Function</h1>"
   ]
  },
  {
   "cell_type": "code",
   "execution_count": 20,
   "id": "8016ce55",
   "metadata": {},
   "outputs": [],
   "source": [
    "def calculDerive(yhat,y,x):\n",
    "    m=x.shape[0]\n",
    "    db=np.sum(yhat-y)/m\n",
    "    dw=(np.dot(yhat-y,x)/m)\n",
    "    return dw,db"
   ]
  },
  {
   "cell_type": "markdown",
   "id": "85fd2615",
   "metadata": {},
   "source": [
    "<h1 style=\"color: rgb(0, 90, 90);font-size: 1.3rem; font-family: 'Trebuchet MS', 'Lucida Sans Unicode', 'Lucida Grande', 'Lucida Sans', Arial, sans-serif;font-weight: bolder;\">Gradient Descent Function</h1>"
   ]
  },
  {
   "cell_type": "code",
   "execution_count": 21,
   "id": "3533711d",
   "metadata": {},
   "outputs": [],
   "source": [
    "def gradientDescent(w,b,x,y,learningRate,nbrIterations):\n",
    "    a=[]\n",
    "    allW=[]\n",
    "    for i in range(nbrIterations):\n",
    "        z=calculZ(w,b,x)\n",
    "        yhat=sigmoid(z)\n",
    "        dw,db=calculDerive(yhat,y,x)\n",
    "        w=w-learningRate*dw\n",
    "        b=b-learningRate*db\n",
    "        a.append(costFunction(y,yhat,x))\n",
    "        allW.append(w)\n",
    "    z=calculZ(w,b,x)\n",
    "    yhat=sigmoid(z)\n",
    "    J=costFunction(y,yhat,x)\n",
    "    return J,w,b,a,allW"
   ]
  },
  {
   "cell_type": "markdown",
   "id": "2b076f50",
   "metadata": {},
   "source": [
    "<h1 style=\"color: rgb(0, 90, 90);font-size: 1.3rem; font-family: 'Trebuchet MS', 'Lucida Sans Unicode', 'Lucida Grande', 'Lucida Sans', Arial, sans-serif;font-weight: bolder;\">The Results</h1>"
   ]
  },
  {
   "cell_type": "code",
   "execution_count": 22,
   "id": "43d0c1bc",
   "metadata": {},
   "outputs": [],
   "source": [
    "m,n=X.shape\n",
    "w=np.zeros((n,))\n",
    "b=0\n",
    "learningRate=0.01\n",
    "nbrIterations=30000\n",
    "J,w,b,a,allW=gradientDescent(w,b,X,y,learningRate,nbrIterations)"
   ]
  },
  {
   "cell_type": "code",
   "execution_count": 23,
   "id": "4c0d9cca",
   "metadata": {},
   "outputs": [
    {
     "name": "stdout",
     "output_type": "stream",
     "text": [
      "Cost Function J: 0.2038793989123699 \n",
      "w: [3.77101221 3.50989047] \n",
      "b: 1.6055245327237577\n"
     ]
    }
   ],
   "source": [
    "print(\"Cost Function J:\",J,\"\\nw:\",w,\"\\nb:\",b)"
   ]
  },
  {
   "cell_type": "markdown",
   "id": "f7638ddf",
   "metadata": {},
   "source": [
    "<h1 style=\"color: rgb(0, 90, 90);font-size: 1.3rem; font-family: 'Trebuchet MS', 'Lucida Sans Unicode', 'Lucida Grande', 'Lucida Sans', Arial, sans-serif;font-weight: bolder;\">Plotting the Results for each iteration</h1>"
   ]
  },
  {
   "cell_type": "code",
   "execution_count": 24,
   "id": "7b4d5b03",
   "metadata": {},
   "outputs": [
    {
     "data": {
      "image/png": "[encoded data removed]",
      "text/plain": [
       "<Figure size 1080x432 with 1 Axes>"
      ]
     },
     "metadata": {
      "needs_background": "light"
     },
     "output_type": "display_data"
    }
   ],
   "source": [
    "plt.figure(figsize=(15,6))\n",
    "plt.plot([i for i in range(nbrIterations)],a)\n",
    "plt.show()"
   ]
  },
  {
   "cell_type": "markdown",
   "id": "536a5d4e",
   "metadata": {},
   "source": [
    "<h1 style=\"color: rgb(0, 90, 90);font-size: 1.3rem; font-family: 'Trebuchet MS', 'Lucida Sans Unicode', 'Lucida Grande', 'Lucida Sans', Arial, sans-serif;font-weight: bolder;\">Function for predicting</h1>"
   ]
  },
  {
   "cell_type": "code",
   "execution_count": 26,
   "id": "971266a5",
   "metadata": {},
   "outputs": [],
   "source": [
    "def prediction(w,b,X,threshold):\n",
    "    z=calculZ(w,b,X)\n",
    "    yhat=sigmoid(z)\n",
    "    pred=(yhat>=threshold).astype(int)\n",
    "    return pred"
   ]
  },
  {
   "cell_type": "code",
   "execution_count": 27,
   "id": "1e658e71",
   "metadata": {},
   "outputs": [],
   "source": [
    "x1=np.array([-2,2])\n",
    "x2=-(w[0]*x1)/w[1]-(b/w[1])"
   ]
  },
  {
   "cell_type": "code",
   "execution_count": 28,
   "id": "71d39ea3",
   "metadata": {},
   "outputs": [
    {
     "data": {
      "text/plain": [
       "array([ 1.69136329, -2.60622063])"
      ]
     },
     "execution_count": 28,
     "metadata": {},
     "output_type": "execute_result"
    }
   ],
   "source": [
    "x2"
   ]
  },
  {
   "cell_type": "markdown",
   "id": "999671d5",
   "metadata": {},
   "source": [
    "<h1 style=\"color: rgb(0, 90, 90);font-size: 1.3rem; font-family: 'Trebuchet MS', 'Lucida Sans Unicode', 'Lucida Grande', 'Lucida Sans', Arial, sans-serif;font-weight: bolder;\">Plotting The Decision Boundary</h1>"
   ]
  },
  {
   "cell_type": "code",
   "execution_count": 29,
   "id": "3042ec11",
   "metadata": {},
   "outputs": [
    {
     "data": {
      "image/png": "[encoded data removed]",
      "text/plain": [
       "<Figure size 1080x504 with 1 Axes>"
      ]
     },
     "metadata": {
      "needs_background": "light"
     },
     "output_type": "display_data"
    }
   ],
   "source": [
    "plt.figure(figsize=(15,7))\n",
    "plt.scatter(df[\"Exam1\"][df[\"Admission\"]==1],df[\"Exam2\"][df[\"Admission\"]==1],marker=\"+\",c=\"black\")\n",
    "plt.scatter(df[\"Exam1\"][df[\"Admission\"]==0],df[\"Exam2\"][df[\"Admission\"]==0],marker=\"o\",c=\"yellow\")\n",
    "plt.plot(x1,x2)\n",
    "plt.legend([\"Admitted\",\"Not Admitted\"])\n",
    "plt.xlabel(\"Exam 1 Score\")\n",
    "plt.ylabel(\"Exam 2 Score\")\n",
    "plt.title(\"Figure 1; Scatter plot of training data\")\n",
    "plt.show()"
   ]
  },
  {
   "cell_type": "code",
   "execution_count": 30,
   "id": "5a110c4c",
   "metadata": {},
   "outputs": [],
   "source": [
    "x0=np.array([45,85])\n",
    "threshold=0.776"
   ]
  },
  {
   "cell_type": "code",
   "execution_count": 31,
   "id": "1598f970",
   "metadata": {},
   "outputs": [],
   "source": [
    "x0[0]=(x0[0]-moyenne1)/ecartType1\n",
    "x0[1]=(x0[1]-moyenne2)/ecartType2"
   ]
  },
  {
   "cell_type": "code",
   "execution_count": 32,
   "id": "22697aef",
   "metadata": {},
   "outputs": [
    {
     "data": {
      "text/plain": [
       "1"
      ]
     },
     "execution_count": 32,
     "metadata": {},
     "output_type": "execute_result"
    }
   ],
   "source": [
    "prediction(w,b,x0,threshold)"
   ]
  },
  {
   "cell_type": "markdown",
   "id": "5e13b0b2",
   "metadata": {},
   "source": [
    "<h1 style=\"color: rgb(0, 90, 90);font-size: 1.3rem; font-family: 'Trebuchet MS', 'Lucida Sans Unicode', 'Lucida Grande', 'Lucida Sans', Arial, sans-serif;font-weight: bolder;\">Add a new row in the Plot</h1>"
   ]
  },
  {
   "cell_type": "code",
   "execution_count": 33,
   "id": "c9a8a682",
   "metadata": {},
   "outputs": [
    {
     "data": {
      "image/png": "[encoded data removed]",
      "text/plain": [
       "<Figure size 1080x504 with 1 Axes>"
      ]
     },
     "metadata": {
      "needs_background": "light"
     },
     "output_type": "display_data"
    }
   ],
   "source": [
    "plt.figure(figsize=(15,7))\n",
    "plt.scatter(df[\"Exam1\"][df[\"Admission\"]==1],df[\"Exam2\"][df[\"Admission\"]==1],marker=\"+\",c=\"black\")\n",
    "plt.scatter(df[\"Exam1\"][df[\"Admission\"]==0],df[\"Exam2\"][df[\"Admission\"]==0],marker=\"o\",c=\"yellow\")\n",
    "plt.plot(x1,x2)\n",
    "if prediction(w,b,x0,threshold):\n",
    "    plt.scatter(x0[0],x0[1],marker=\"+\",c=\"red\")\n",
    "else:\n",
    "    plt.scatter(x0[0],x0[1],marker=\"o\",c=\"red\")\n",
    "plt.legend([\"Decision Boundary\",\"Admitted\",\"Not Admitted\",\"Prediction\"])\n",
    "plt.xlabel(\"Exam 1 Score\")\n",
    "plt.ylabel(\"Exam 2 Score\")\n",
    "plt.title(\"Figure 1; Scatter plot of training data\")\n",
    "plt.show()"
   ]
  }
 ],
 "metadata": {
  "kernelspec": {
   "display_name": "Python 3",
   "language": "python",
   "name": "python3"
  },
  "language_info": {
   "codemirror_mode": {
    "name": "ipython",
    "version": 3
   },
   "file_extension": ".py",
   "mimetype": "text/x-python",
   "name": "python",
   "nbconvert_exporter": "python",
   "pygments_lexer": "ipython3",
   "version": "3.8.8"
  }
 },
 "nbformat": 4,
 "nbformat_minor": 5
}

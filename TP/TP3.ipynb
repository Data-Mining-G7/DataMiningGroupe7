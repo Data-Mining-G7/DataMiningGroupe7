{
 "cells": [
  {
   "cell_type": "markdown",
   "id": "a863fb0a",
   "metadata": {},
   "source": [
    "<h1 style=\"color: rgb(0, 80, 120);font-size: 2rem;font-family: 'Trebuchet MS', 'Lucida Sans Unicode', 'Lucida Grande', 'Lucida Sans', Arial, sans-serif;font-weight: bolder;\">TP3:  Image compression using K-means </h1>"
   ]
  },
  {
   "cell_type": "code",
   "execution_count": 49,
   "id": "674ea225",
   "metadata": {},
   "outputs": [],
   "source": [
    "import matplotlib.pyplot as plt\n",
    "from PIL import Image\n",
    "import numpy as np\n",
    "import pandas as pd"
   ]
  },
  {
   "cell_type": "markdown",
   "id": "e0f53409",
   "metadata": {
    "id": "e0f53409"
   },
   "source": [
    "<h1 style=\"color: rgb(0, 90, 90);font-size: 1.3rem; font-family: 'Trebuchet MS', 'Lucida Sans Unicode', 'Lucida Grande', 'Lucida Sans', Arial, sans-serif;font-weight: bolder;\">Find closest centroids function</h1>"
   ]
  },
  {
   "cell_type": "code",
   "execution_count": 50,
   "id": "acd1e7e3",
   "metadata": {},
   "outputs": [],
   "source": [
    "def findClosestCentroids(X, centroids):\n",
    "    m = X.shape[0]\n",
    "    n = centroids.shape[0]\n",
    "    idx = np.zeros((m), dtype = int)\n",
    "    similarity = []\n",
    "    for i in range(m):\n",
    "        for j in range(n):\n",
    "            dis = np.linalg.norm(X[i] - centroids[j])\n",
    "            similarity.append(dis)\n",
    "        idx[i] = np.argmin(similarity)\n",
    "        similarity = []\n",
    "    return idx"
   ]
  },
  {
   "cell_type": "markdown",
   "id": "f7ac851e",
   "metadata": {
    "id": "e0f53409"
   },
   "source": [
    "<h1 style=\"color: rgb(0, 90, 90);font-size: 1.3rem; font-family: 'Trebuchet MS', 'Lucida Sans Unicode', 'Lucida Grande', 'Lucida Sans', Arial, sans-serif;font-weight: bolder;\">Computing centroids function</h1>"
   ]
  },
  {
   "cell_type": "code",
   "execution_count": 51,
   "id": "e5c08c56",
   "metadata": {},
   "outputs": [],
   "source": [
    "def compute_centroids(X, idx, centroids):\n",
    "    m = centroids.shape[0]\n",
    "    n = X.shape[1]\n",
    "    newCentroid = np.zeros((m, n))\n",
    "    for i in range(m):\n",
    "        newCentroid[i] = np.mean(X[idx == i], axis = 0)\n",
    "    return newCentroid"
   ]
  },
  {
   "cell_type": "markdown",
   "id": "228c7fd6",
   "metadata": {
    "id": "e0f53409"
   },
   "source": [
    "<h1 style=\"color: rgb(0, 90, 90);font-size: 1.3rem; font-family: 'Trebuchet MS', 'Lucida Sans Unicode', 'Lucida Grande', 'Lucida Sans', Arial, sans-serif;font-weight: bolder;\">K_means function</h1>"
   ]
  },
  {
   "cell_type": "code",
   "execution_count": 52,
   "id": "93e1f644",
   "metadata": {},
   "outputs": [],
   "source": [
    "def k_means(X, centroids, iterations):\n",
    "    for i in range(iterations):\n",
    "        idx = findClosestCentroids(X, centroids)\n",
    "        centroids = compute_centroids(X, idx, centroids)\n",
    "    return idx, centroids"
   ]
  },
  {
   "cell_type": "markdown",
   "id": "c7a70b7c",
   "metadata": {
    "id": "e0f53409"
   },
   "source": [
    "<h1 style=\"color: rgb(0, 90, 90);font-size: 1.3rem; font-family: 'Trebuchet MS', 'Lucida Sans Unicode', 'Lucida Grande', 'Lucida Sans', Arial, sans-serif;font-weight: bolder;\">Randomly reorder the indices of examples and taking the first K examples as centroids</h1>"
   ]
  },
  {
   "cell_type": "code",
   "execution_count": 53,
   "id": "16d3b956",
   "metadata": {},
   "outputs": [],
   "source": [
    "def kMeans_init_centroids(X, K):\n",
    "    \n",
    "    # Randomly reorder the indices of examples\n",
    "    randidx = np.random.permutation(X.shape[0])\n",
    "\n",
    "    # Take the first K examples as centroids\n",
    "    centroids = X[randidx[:K]]\n",
    "    \n",
    "    return centroids"
   ]
  },
  {
   "cell_type": "markdown",
   "id": "3bca8149",
   "metadata": {
    "id": "e0f53409"
   },
   "source": [
    "<h1 style=\"color: rgb(0, 90, 90);font-size: 1.3rem; font-family: 'Trebuchet MS', 'Lucida Sans Unicode', 'Lucida Grande', 'Lucida Sans', Arial, sans-serif;font-weight: bolder;\">Opening and identifying  the given image file</h1>"
   ]
  },
  {
   "cell_type": "code",
   "execution_count": 54,
   "id": "1b78e855",
   "metadata": {},
   "outputs": [],
   "source": [
    "im = Image.open('img.jpg')"
   ]
  },
  {
   "cell_type": "markdown",
   "id": "19394c8c",
   "metadata": {
    "id": "e0f53409"
   },
   "source": [
    "<h1 style=\"color: rgb(0, 90, 90);font-size: 1.3rem; font-family: 'Trebuchet MS', 'Lucida Sans Unicode', 'Lucida Grande', 'Lucida Sans', Arial, sans-serif;font-weight: bolder;\">Reading the image and printing the flatten shape</h1>"
   ]
  },
  {
   "cell_type": "code",
   "execution_count": 55,
   "id": "f285d330",
   "metadata": {
    "scrolled": true
   },
   "outputs": [
    {
     "name": "stdout",
     "output_type": "stream",
     "text": [
      "(16384,)\n"
     ]
    }
   ],
   "source": [
    "image = plt.imread('img.jpg')\n",
    "print(image[:,:,0].flatten().shape)"
   ]
  },
  {
   "cell_type": "markdown",
   "id": "4c79ab5a",
   "metadata": {
    "id": "e0f53409"
   },
   "source": [
    "<h1 style=\"color: rgb(0, 90, 90);font-size: 1.3rem; font-family: 'Trebuchet MS', 'Lucida Sans Unicode', 'Lucida Grande', 'Lucida Sans', Arial, sans-serif;font-weight: bolder;\">Image shape</h1>"
   ]
  },
  {
   "cell_type": "code",
   "execution_count": 56,
   "id": "2124a7b0",
   "metadata": {},
   "outputs": [
    {
     "name": "stdout",
     "output_type": "stream",
     "text": [
      "(128, 128, 3)\n"
     ]
    }
   ],
   "source": [
    "print(image.shape)"
   ]
  },
  {
   "cell_type": "markdown",
   "id": "7fb35046",
   "metadata": {
    "id": "e0f53409"
   },
   "source": [
    "<h1 style=\"color: rgb(0, 90, 90);font-size: 1.3rem; font-family: 'Trebuchet MS', 'Lucida Sans Unicode', 'Lucida Grande', 'Lucida Sans', Arial, sans-serif;font-weight: bolder;\">Reshaping image</h1>"
   ]
  },
  {
   "cell_type": "code",
   "execution_count": 57,
   "id": "3abcdec9",
   "metadata": {},
   "outputs": [],
   "source": [
    "image_reshaped = image.reshape(image.shape[0] * image.shape[1], 3)"
   ]
  },
  {
   "cell_type": "code",
   "execution_count": 58,
   "id": "2d5cb3d3",
   "metadata": {},
   "outputs": [
    {
     "data": {
      "text/plain": [
       "(16384, 3)"
      ]
     },
     "execution_count": 58,
     "metadata": {},
     "output_type": "execute_result"
    }
   ],
   "source": [
    "image_reshaped.shape"
   ]
  },
  {
   "cell_type": "markdown",
   "id": "6a69ea29",
   "metadata": {
    "id": "e0f53409"
   },
   "source": [
    "<h1 style=\"color: rgb(0, 90, 90);font-size: 1.3rem; font-family: 'Trebuchet MS', 'Lucida Sans Unicode', 'Lucida Grande', 'Lucida Sans', Arial, sans-serif;font-weight: bolder;\">Applying K_means to compress the image</h1>"
   ]
  },
  {
   "cell_type": "code",
   "execution_count": 59,
   "id": "cfb809ad",
   "metadata": {},
   "outputs": [],
   "source": [
    "iterations = 10\n",
    "K = 16\n",
    "\n",
    "centroids = kMeans_init_centroids(image_reshaped, K)\n",
    "idx, centroids = k_means(image_reshaped, centroids, iterations)"
   ]
  },
  {
   "cell_type": "markdown",
   "id": "6d428ee7",
   "metadata": {
    "id": "e0f53409"
   },
   "source": [
    "<h1 style=\"color: rgb(0, 90, 90);font-size: 1.3rem; font-family: 'Trebuchet MS', 'Lucida Sans Unicode', 'Lucida Grande', 'Lucida Sans', Arial, sans-serif;font-weight: bolder;\">Centroids obtained</h1>"
   ]
  },
  {
   "cell_type": "code",
   "execution_count": 60,
   "id": "0a68dbd7",
   "metadata": {},
   "outputs": [
    {
     "name": "stdout",
     "output_type": "stream",
     "text": [
      "[[ 19  20  17]\n",
      " [140 121 110]\n",
      " [179 157 131]\n",
      " [ 47  47  46]\n",
      " [249 231 184]\n",
      " [220 179 112]\n",
      " [248 244 217]\n",
      " [154 114  51]\n",
      " [ 77  80  92]\n",
      " [ 30  32  29]\n",
      " [112  88  65]\n",
      " [ 78  61  48]\n",
      " [202 191 190]\n",
      " [121 146 190]\n",
      " [200 146  73]\n",
      " [241 209 149]]\n"
     ]
    }
   ],
   "source": [
    "centroids = centroids.astype(int)\n",
    "print(centroids)"
   ]
  },
  {
   "cell_type": "markdown",
   "id": "6435e85b",
   "metadata": {
    "id": "e0f53409"
   },
   "source": [
    "<h1 style=\"color: rgb(0, 90, 90);font-size: 1.3rem; font-family: 'Trebuchet MS', 'Lucida Sans Unicode', 'Lucida Grande', 'Lucida Sans', Arial, sans-serif;font-weight: bolder;\">Replacing every data point by the appropriate cluster</h1>"
   ]
  },
  {
   "cell_type": "code",
   "execution_count": 61,
   "id": "e8fb3ecc",
   "metadata": {
    "scrolled": true
   },
   "outputs": [
    {
     "name": "stdout",
     "output_type": "stream",
     "text": [
      "[[220 179 112]\n",
      " [220 179 112]\n",
      " [220 179 112]\n",
      " ...\n",
      " [ 47  47  46]\n",
      " [ 78  61  48]\n",
      " [ 47  47  46]]\n"
     ]
    }
   ],
   "source": [
    "X_recovered = centroids[idx,:]\n",
    "print(X_recovered)"
   ]
  },
  {
   "cell_type": "markdown",
   "id": "d57c289b",
   "metadata": {
    "id": "e0f53409"
   },
   "source": [
    "<h1 style=\"color: rgb(0, 90, 90);font-size: 1.3rem; font-family: 'Trebuchet MS', 'Lucida Sans Unicode', 'Lucida Grande', 'Lucida Sans', Arial, sans-serif;font-weight: bolder;\">Reshaping the X_recovered to the original shape in order to retrieve the image</h1>"
   ]
  },
  {
   "cell_type": "code",
   "execution_count": 62,
   "id": "0ca446de",
   "metadata": {},
   "outputs": [],
   "source": [
    "X_recovered = X_recovered.reshape(128,128,3) "
   ]
  },
  {
   "cell_type": "markdown",
   "id": "d1a64464",
   "metadata": {
    "id": "e0f53409"
   },
   "source": [
    "<h1 style=\"color: rgb(0, 90, 90);font-size: 1.3rem; font-family: 'Trebuchet MS', 'Lucida Sans Unicode', 'Lucida Grande', 'Lucida Sans', Arial, sans-serif;font-weight: bolder;\">Presenting the compressed image as a final result</h1>"
   ]
  },
  {
   "cell_type": "code",
   "execution_count": 63,
   "id": "88dfd11e",
   "metadata": {},
   "outputs": [
    {
     "data": {
      "text/plain": [
       "<matplotlib.image.AxesImage at 0x167c796f100>"
      ]
     },
     "execution_count": 63,
     "metadata": {},
     "output_type": "execute_result"
    },
    {
     "data": {
      "image/png": "[encoded data removed]",
      "text/plain": [
       "<Figure size 432x288 with 1 Axes>"
      ]
     },
     "metadata": {
      "needs_background": "light"
     },
     "output_type": "display_data"
    }
   ],
   "source": [
    "plt.imshow(X_recovered)"
   ]
  }
 ],
 "metadata": {
  "kernelspec": {
   "display_name": "Python 3 (ipykernel)",
   "language": "python",
   "name": "python3"
  },
  "language_info": {
   "codemirror_mode": {
    "name": "ipython",
    "version": 3
   },
   "file_extension": ".py",
   "mimetype": "text/x-python",
   "name": "python",
   "nbconvert_exporter": "python",
   "pygments_lexer": "ipython3",
   "version": "3.9.12"
  }
 },
 "nbformat": 4,
 "nbformat_minor": 5
}

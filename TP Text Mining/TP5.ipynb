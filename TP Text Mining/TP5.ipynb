{
 "cells": [
  {
   "cell_type": "markdown",
   "id": "e025b9b3",
   "metadata": {},
   "source": [
    "<h1 style=\"color: rgb(0, 100, 150);font-size: 2rem;font-family: 'system-ui';font-weight: bold; \">TP 5: Text Mining:</h1>"
   ]
  },
  {
   "cell_type": "markdown",
   "id": "bdc22066",
   "metadata": {},
   "source": [
    "<h1 style=\"color: rgb(0, 90, 90);font-size: 1.3rem;font-family: 'Trebuchet MS', 'Lucida Sans Unicode', 'Lucida Grande', 'Lucida Sans', Arial, sans-serif;font-weight: bolder;\">Importing Python libraries</h1>"
   ]
  },
  {
   "cell_type": "code",
   "execution_count": 1,
   "id": "d54c501b",
   "metadata": {
    "execution": {
     "iopub.execute_input": "2023-05-17T22:39:53.944227Z",
     "iopub.status.busy": "2023-05-17T22:39:53.943888Z",
     "iopub.status.idle": "2023-05-17T22:39:54.773325Z",
     "shell.execute_reply": "2023-05-17T22:39:54.772229Z",
     "shell.execute_reply.started": "2023-05-17T22:39:53.944196Z"
    }
   },
   "outputs": [
    {
     "name": "stderr",
     "output_type": "stream",
     "text": [
      "/opt/conda/lib/python3.10/site-packages/scipy/__init__.py:146: UserWarning: A NumPy version >=1.16.5 and <1.23.0 is required for this version of SciPy (detected version 1.23.5\n",
      "  warnings.warn(f\"A NumPy version >={np_minversion} and <{np_maxversion}\"\n"
     ]
    }
   ],
   "source": [
    "import numpy as np\n",
    "import pandas as pd\n",
    "import nltk\n",
    "import string\n",
    "import re\n",
    "from nltk.stem import PorterStemmer\n",
    "from nltk.tokenize import word_tokenize\n",
    "from nltk.corpus import stopwords\n",
    "from sklearn.feature_extraction.text import TfidfVectorizer"
   ]
  },
  {
   "cell_type": "code",
   "execution_count": 2,
   "id": "7a3f3567",
   "metadata": {
    "execution": {
     "iopub.execute_input": "2023-05-17T22:39:54.775199Z",
     "iopub.status.busy": "2023-05-17T22:39:54.774823Z",
     "iopub.status.idle": "2023-05-17T22:39:54.875493Z",
     "shell.execute_reply": "2023-05-17T22:39:54.874235Z",
     "shell.execute_reply.started": "2023-05-17T22:39:54.775165Z"
    }
   },
   "outputs": [
    {
     "name": "stdout",
     "output_type": "stream",
     "text": [
      "[nltk_data] Downloading package punkt to /usr/share/nltk_data...\n",
      "[nltk_data]   Package punkt is already up-to-date!\n"
     ]
    },
    {
     "data": {
      "text/plain": [
       "True"
      ]
     },
     "execution_count": 2,
     "metadata": {},
     "output_type": "execute_result"
    }
   ],
   "source": [
    "nltk.download('punkt')"
   ]
  },
  {
   "cell_type": "markdown",
   "id": "ab20d662",
   "metadata": {},
   "source": [
    "<h1 style=\"color: rgb(0, 90, 90);font-size: 1.3rem; font-family: 'Trebuchet MS', 'Lucida Sans Unicode', 'Lucida Grande', 'Lucida Sans', Arial, sans-serif;font-weight: bolder;\">Retrieving data in the form of the dataFrame</h1>"
   ]
  },
  {
   "cell_type": "code",
   "execution_count": 3,
   "id": "892255fb",
   "metadata": {
    "execution": {
     "iopub.execute_input": "2023-05-17T22:40:51.996041Z",
     "iopub.status.busy": "2023-05-17T22:40:51.995615Z",
     "iopub.status.idle": "2023-05-17T22:40:52.023309Z",
     "shell.execute_reply": "2023-05-17T22:40:52.022039Z",
     "shell.execute_reply.started": "2023-05-17T22:40:51.996005Z"
    }
   },
   "outputs": [],
   "source": [
    "data=pd.read_csv(\"youtoxic_english_1000.csv\")"
   ]
  },
  {
   "cell_type": "markdown",
   "id": "76832789",
   "metadata": {},
   "source": [
    "<h1 style=\"color: rgb(0, 90, 90);font-size: 1.3rem; font-family: 'Trebuchet MS', 'Lucida Sans Unicode', 'Lucida Grande', 'Lucida Sans', Arial, sans-serif;font-weight: bolder;\">Shape of the dataFrame</h1>"
   ]
  },
  {
   "cell_type": "code",
   "execution_count": 4,
   "id": "487306d0",
   "metadata": {
    "execution": {
     "iopub.execute_input": "2023-05-17T22:40:52.026128Z",
     "iopub.status.busy": "2023-05-17T22:40:52.025632Z",
     "iopub.status.idle": "2023-05-17T22:40:52.034744Z",
     "shell.execute_reply": "2023-05-17T22:40:52.033348Z",
     "shell.execute_reply.started": "2023-05-17T22:40:52.026070Z"
    }
   },
   "outputs": [
    {
     "data": {
      "text/plain": [
       "(1000, 15)"
      ]
     },
     "execution_count": 4,
     "metadata": {},
     "output_type": "execute_result"
    }
   ],
   "source": [
    "data.shape"
   ]
  },
  {
   "cell_type": "markdown",
   "id": "94d08704",
   "metadata": {},
   "source": [
    "<h1 style=\"color: rgb(0, 90, 90);font-size: 1.3rem; font-family: 'Trebuchet MS', 'Lucida Sans Unicode', 'Lucida Grande', 'Lucida Sans', Arial, sans-serif;font-weight: bolder;\">First 5 rows of the dataFrame</h1>"
   ]
  },
  {
   "cell_type": "code",
   "execution_count": 5,
   "id": "d2f980e6",
   "metadata": {
    "execution": {
     "iopub.execute_input": "2023-05-17T22:40:52.042277Z",
     "iopub.status.busy": "2023-05-17T22:40:52.041883Z",
     "iopub.status.idle": "2023-05-17T22:40:52.066161Z",
     "shell.execute_reply": "2023-05-17T22:40:52.065031Z",
     "shell.execute_reply.started": "2023-05-17T22:40:52.042223Z"
    }
   },
   "outputs": [
    {
     "data": {
      "text/html": [
       "<div>\n",
       "<style scoped>\n",
       "    .dataframe tbody tr th:only-of-type {\n",
       "        vertical-align: middle;\n",
       "    }\n",
       "\n",
       "    .dataframe tbody tr th {\n",
       "        vertical-align: top;\n",
       "    }\n",
       "\n",
       "    .dataframe thead th {\n",
       "        text-align: right;\n",
       "    }\n",
       "</style>\n",
       "<table border=\"1\" class=\"dataframe\">\n",
       "  <thead>\n",
       "    <tr style=\"text-align: right;\">\n",
       "      <th></th>\n",
       "      <th>CommentId</th>\n",
       "      <th>VideoId</th>\n",
       "      <th>Text</th>\n",
       "      <th>IsToxic</th>\n",
       "      <th>IsAbusive</th>\n",
       "      <th>IsThreat</th>\n",
       "      <th>IsProvocative</th>\n",
       "      <th>IsObscene</th>\n",
       "      <th>IsHatespeech</th>\n",
       "      <th>IsRacist</th>\n",
       "      <th>IsNationalist</th>\n",
       "      <th>IsSexist</th>\n",
       "      <th>IsHomophobic</th>\n",
       "      <th>IsReligiousHate</th>\n",
       "      <th>IsRadicalism</th>\n",
       "    </tr>\n",
       "  </thead>\n",
       "  <tbody>\n",
       "    <tr>\n",
       "      <th>0</th>\n",
       "      <td>Ugg2KwwX0V8-aXgCoAEC</td>\n",
       "      <td>04kJtp6pVXI</td>\n",
       "      <td>If only people would just take a step back and...</td>\n",
       "      <td>False</td>\n",
       "      <td>False</td>\n",
       "      <td>False</td>\n",
       "      <td>False</td>\n",
       "      <td>False</td>\n",
       "      <td>False</td>\n",
       "      <td>False</td>\n",
       "      <td>False</td>\n",
       "      <td>False</td>\n",
       "      <td>False</td>\n",
       "      <td>False</td>\n",
       "      <td>False</td>\n",
       "    </tr>\n",
       "    <tr>\n",
       "      <th>1</th>\n",
       "      <td>Ugg2s5AzSPioEXgCoAEC</td>\n",
       "      <td>04kJtp6pVXI</td>\n",
       "      <td>Law enforcement is not trained to shoot to app...</td>\n",
       "      <td>True</td>\n",
       "      <td>True</td>\n",
       "      <td>False</td>\n",
       "      <td>False</td>\n",
       "      <td>False</td>\n",
       "      <td>False</td>\n",
       "      <td>False</td>\n",
       "      <td>False</td>\n",
       "      <td>False</td>\n",
       "      <td>False</td>\n",
       "      <td>False</td>\n",
       "      <td>False</td>\n",
       "    </tr>\n",
       "    <tr>\n",
       "      <th>2</th>\n",
       "      <td>Ugg3dWTOxryFfHgCoAEC</td>\n",
       "      <td>04kJtp6pVXI</td>\n",
       "      <td>\\nDont you reckon them 'black lives matter' ba...</td>\n",
       "      <td>True</td>\n",
       "      <td>True</td>\n",
       "      <td>False</td>\n",
       "      <td>False</td>\n",
       "      <td>True</td>\n",
       "      <td>False</td>\n",
       "      <td>False</td>\n",
       "      <td>False</td>\n",
       "      <td>False</td>\n",
       "      <td>False</td>\n",
       "      <td>False</td>\n",
       "      <td>False</td>\n",
       "    </tr>\n",
       "    <tr>\n",
       "      <th>3</th>\n",
       "      <td>Ugg7Gd006w1MPngCoAEC</td>\n",
       "      <td>04kJtp6pVXI</td>\n",
       "      <td>There are a very large number of people who do...</td>\n",
       "      <td>False</td>\n",
       "      <td>False</td>\n",
       "      <td>False</td>\n",
       "      <td>False</td>\n",
       "      <td>False</td>\n",
       "      <td>False</td>\n",
       "      <td>False</td>\n",
       "      <td>False</td>\n",
       "      <td>False</td>\n",
       "      <td>False</td>\n",
       "      <td>False</td>\n",
       "      <td>False</td>\n",
       "    </tr>\n",
       "    <tr>\n",
       "      <th>4</th>\n",
       "      <td>Ugg8FfTbbNF8IngCoAEC</td>\n",
       "      <td>04kJtp6pVXI</td>\n",
       "      <td>The Arab dude is absolutely right, he should h...</td>\n",
       "      <td>False</td>\n",
       "      <td>False</td>\n",
       "      <td>False</td>\n",
       "      <td>False</td>\n",
       "      <td>False</td>\n",
       "      <td>False</td>\n",
       "      <td>False</td>\n",
       "      <td>False</td>\n",
       "      <td>False</td>\n",
       "      <td>False</td>\n",
       "      <td>False</td>\n",
       "      <td>False</td>\n",
       "    </tr>\n",
       "  </tbody>\n",
       "</table>\n",
       "</div>"
      ],
      "text/plain": [
       "              CommentId      VideoId  \\\n",
       "0  Ugg2KwwX0V8-aXgCoAEC  04kJtp6pVXI   \n",
       "1  Ugg2s5AzSPioEXgCoAEC  04kJtp6pVXI   \n",
       "2  Ugg3dWTOxryFfHgCoAEC  04kJtp6pVXI   \n",
       "3  Ugg7Gd006w1MPngCoAEC  04kJtp6pVXI   \n",
       "4  Ugg8FfTbbNF8IngCoAEC  04kJtp6pVXI   \n",
       "\n",
       "                                                Text  IsToxic  IsAbusive  \\\n",
       "0  If only people would just take a step back and...    False      False   \n",
       "1  Law enforcement is not trained to shoot to app...     True       True   \n",
       "2  \\nDont you reckon them 'black lives matter' ba...     True       True   \n",
       "3  There are a very large number of people who do...    False      False   \n",
       "4  The Arab dude is absolutely right, he should h...    False      False   \n",
       "\n",
       "   IsThreat  IsProvocative  IsObscene  IsHatespeech  IsRacist  IsNationalist  \\\n",
       "0     False          False      False         False     False          False   \n",
       "1     False          False      False         False     False          False   \n",
       "2     False          False       True         False     False          False   \n",
       "3     False          False      False         False     False          False   \n",
       "4     False          False      False         False     False          False   \n",
       "\n",
       "   IsSexist  IsHomophobic  IsReligiousHate  IsRadicalism  \n",
       "0     False         False            False         False  \n",
       "1     False         False            False         False  \n",
       "2     False         False            False         False  \n",
       "3     False         False            False         False  \n",
       "4     False         False            False         False  "
      ]
     },
     "execution_count": 5,
     "metadata": {},
     "output_type": "execute_result"
    }
   ],
   "source": [
    "data.head()"
   ]
  },
  {
   "cell_type": "markdown",
   "id": "9f8a6a02",
   "metadata": {},
   "source": [
    "<h1 style=\"color: rgb(0, 90, 90);font-size: 1.3rem; font-family: 'Trebuchet MS', 'Lucida Sans Unicode', 'Lucida Grande', 'Lucida Sans', Arial, sans-serif;font-weight: bolder;\">Taking only 2 features</h1>"
   ]
  },
  {
   "cell_type": "code",
   "execution_count": 6,
   "id": "0625570b",
   "metadata": {
    "execution": {
     "iopub.execute_input": "2023-05-17T22:40:52.069638Z",
     "iopub.status.busy": "2023-05-17T22:40:52.068450Z",
     "iopub.status.idle": "2023-05-17T22:40:52.077529Z",
     "shell.execute_reply": "2023-05-17T22:40:52.076348Z",
     "shell.execute_reply.started": "2023-05-17T22:40:52.069583Z"
    }
   },
   "outputs": [],
   "source": [
    "df=data[[\"Text\",\"IsToxic\"]]"
   ]
  },
  {
   "cell_type": "code",
   "execution_count": 7,
   "id": "da5523a6",
   "metadata": {
    "execution": {
     "iopub.execute_input": "2023-05-17T22:40:53.595615Z",
     "iopub.status.busy": "2023-05-17T22:40:53.594650Z",
     "iopub.status.idle": "2023-05-17T22:40:53.603137Z",
     "shell.execute_reply": "2023-05-17T22:40:53.602034Z",
     "shell.execute_reply.started": "2023-05-17T22:40:53.595564Z"
    }
   },
   "outputs": [
    {
     "data": {
      "text/plain": [
       "(1000, 2)"
      ]
     },
     "execution_count": 7,
     "metadata": {},
     "output_type": "execute_result"
    }
   ],
   "source": [
    "df.shape"
   ]
  },
  {
   "cell_type": "code",
   "execution_count": 8,
   "id": "69dcc49a",
   "metadata": {
    "execution": {
     "iopub.execute_input": "2023-05-17T22:40:53.913552Z",
     "iopub.status.busy": "2023-05-17T22:40:53.912804Z",
     "iopub.status.idle": "2023-05-17T22:40:53.926427Z",
     "shell.execute_reply": "2023-05-17T22:40:53.925081Z",
     "shell.execute_reply.started": "2023-05-17T22:40:53.913500Z"
    }
   },
   "outputs": [
    {
     "data": {
      "text/html": [
       "<div>\n",
       "<style scoped>\n",
       "    .dataframe tbody tr th:only-of-type {\n",
       "        vertical-align: middle;\n",
       "    }\n",
       "\n",
       "    .dataframe tbody tr th {\n",
       "        vertical-align: top;\n",
       "    }\n",
       "\n",
       "    .dataframe thead th {\n",
       "        text-align: right;\n",
       "    }\n",
       "</style>\n",
       "<table border=\"1\" class=\"dataframe\">\n",
       "  <thead>\n",
       "    <tr style=\"text-align: right;\">\n",
       "      <th></th>\n",
       "      <th>Text</th>\n",
       "      <th>IsToxic</th>\n",
       "    </tr>\n",
       "  </thead>\n",
       "  <tbody>\n",
       "    <tr>\n",
       "      <th>0</th>\n",
       "      <td>If only people would just take a step back and...</td>\n",
       "      <td>False</td>\n",
       "    </tr>\n",
       "    <tr>\n",
       "      <th>1</th>\n",
       "      <td>Law enforcement is not trained to shoot to app...</td>\n",
       "      <td>True</td>\n",
       "    </tr>\n",
       "    <tr>\n",
       "      <th>2</th>\n",
       "      <td>\\nDont you reckon them 'black lives matter' ba...</td>\n",
       "      <td>True</td>\n",
       "    </tr>\n",
       "    <tr>\n",
       "      <th>3</th>\n",
       "      <td>There are a very large number of people who do...</td>\n",
       "      <td>False</td>\n",
       "    </tr>\n",
       "    <tr>\n",
       "      <th>4</th>\n",
       "      <td>The Arab dude is absolutely right, he should h...</td>\n",
       "      <td>False</td>\n",
       "    </tr>\n",
       "  </tbody>\n",
       "</table>\n",
       "</div>"
      ],
      "text/plain": [
       "                                                Text  IsToxic\n",
       "0  If only people would just take a step back and...    False\n",
       "1  Law enforcement is not trained to shoot to app...     True\n",
       "2  \\nDont you reckon them 'black lives matter' ba...     True\n",
       "3  There are a very large number of people who do...    False\n",
       "4  The Arab dude is absolutely right, he should h...    False"
      ]
     },
     "execution_count": 8,
     "metadata": {},
     "output_type": "execute_result"
    }
   ],
   "source": [
    "df.head()"
   ]
  },
  {
   "cell_type": "markdown",
   "id": "7a471f75",
   "metadata": {},
   "source": [
    "<h1 style=\"color: rgb(0, 90, 90);font-size: 1.3rem; font-family: 'Trebuchet MS', 'Lucida Sans Unicode', 'Lucida Grande', 'Lucida Sans', Arial, sans-serif;font-weight: bolder;\">Initializing the stopwords list</h1>"
   ]
  },
  {
   "cell_type": "code",
   "execution_count": 9,
   "id": "bb114c2b",
   "metadata": {
    "execution": {
     "iopub.execute_input": "2023-05-17T22:40:54.196873Z",
     "iopub.status.busy": "2023-05-17T22:40:54.196446Z",
     "iopub.status.idle": "2023-05-17T22:40:54.203389Z",
     "shell.execute_reply": "2023-05-17T22:40:54.202376Z",
     "shell.execute_reply.started": "2023-05-17T22:40:54.196838Z"
    }
   },
   "outputs": [],
   "source": [
    "stopWords=stopwords.words('english')"
   ]
  },
  {
   "cell_type": "code",
   "execution_count": 10,
   "id": "5ac1b1c9",
   "metadata": {
    "execution": {
     "iopub.execute_input": "2023-05-17T22:40:54.415124Z",
     "iopub.status.busy": "2023-05-17T22:40:54.414695Z",
     "iopub.status.idle": "2023-05-17T22:40:54.427193Z",
     "shell.execute_reply": "2023-05-17T22:40:54.425895Z",
     "shell.execute_reply.started": "2023-05-17T22:40:54.415079Z"
    }
   },
   "outputs": [
    {
     "data": {
      "text/plain": [
       "['i',\n",
       " 'me',\n",
       " 'my',\n",
       " 'myself',\n",
       " 'we',\n",
       " 'our',\n",
       " 'ours',\n",
       " 'ourselves',\n",
       " 'you',\n",
       " \"you're\",\n",
       " \"you've\",\n",
       " \"you'll\",\n",
       " \"you'd\",\n",
       " 'your',\n",
       " 'yours',\n",
       " 'yourself',\n",
       " 'yourselves',\n",
       " 'he',\n",
       " 'him',\n",
       " 'his',\n",
       " 'himself',\n",
       " 'she',\n",
       " \"she's\",\n",
       " 'her',\n",
       " 'hers',\n",
       " 'herself',\n",
       " 'it',\n",
       " \"it's\",\n",
       " 'its',\n",
       " 'itself',\n",
       " 'they',\n",
       " 'them',\n",
       " 'their',\n",
       " 'theirs',\n",
       " 'themselves',\n",
       " 'what',\n",
       " 'which',\n",
       " 'who',\n",
       " 'whom',\n",
       " 'this',\n",
       " 'that',\n",
       " \"that'll\",\n",
       " 'these',\n",
       " 'those',\n",
       " 'am',\n",
       " 'is',\n",
       " 'are',\n",
       " 'was',\n",
       " 'were',\n",
       " 'be',\n",
       " 'been',\n",
       " 'being',\n",
       " 'have',\n",
       " 'has',\n",
       " 'had',\n",
       " 'having',\n",
       " 'do',\n",
       " 'does',\n",
       " 'did',\n",
       " 'doing',\n",
       " 'a',\n",
       " 'an',\n",
       " 'the',\n",
       " 'and',\n",
       " 'but',\n",
       " 'if',\n",
       " 'or',\n",
       " 'because',\n",
       " 'as',\n",
       " 'until',\n",
       " 'while',\n",
       " 'of',\n",
       " 'at',\n",
       " 'by',\n",
       " 'for',\n",
       " 'with',\n",
       " 'about',\n",
       " 'against',\n",
       " 'between',\n",
       " 'into',\n",
       " 'through',\n",
       " 'during',\n",
       " 'before',\n",
       " 'after',\n",
       " 'above',\n",
       " 'below',\n",
       " 'to',\n",
       " 'from',\n",
       " 'up',\n",
       " 'down',\n",
       " 'in',\n",
       " 'out',\n",
       " 'on',\n",
       " 'off',\n",
       " 'over',\n",
       " 'under',\n",
       " 'again',\n",
       " 'further',\n",
       " 'then',\n",
       " 'once',\n",
       " 'here',\n",
       " 'there',\n",
       " 'when',\n",
       " 'where',\n",
       " 'why',\n",
       " 'how',\n",
       " 'all',\n",
       " 'any',\n",
       " 'both',\n",
       " 'each',\n",
       " 'few',\n",
       " 'more',\n",
       " 'most',\n",
       " 'other',\n",
       " 'some',\n",
       " 'such',\n",
       " 'no',\n",
       " 'nor',\n",
       " 'not',\n",
       " 'only',\n",
       " 'own',\n",
       " 'same',\n",
       " 'so',\n",
       " 'than',\n",
       " 'too',\n",
       " 'very',\n",
       " 's',\n",
       " 't',\n",
       " 'can',\n",
       " 'will',\n",
       " 'just',\n",
       " 'don',\n",
       " \"don't\",\n",
       " 'should',\n",
       " \"should've\",\n",
       " 'now',\n",
       " 'd',\n",
       " 'll',\n",
       " 'm',\n",
       " 'o',\n",
       " 're',\n",
       " 've',\n",
       " 'y',\n",
       " 'ain',\n",
       " 'aren',\n",
       " \"aren't\",\n",
       " 'couldn',\n",
       " \"couldn't\",\n",
       " 'didn',\n",
       " \"didn't\",\n",
       " 'doesn',\n",
       " \"doesn't\",\n",
       " 'hadn',\n",
       " \"hadn't\",\n",
       " 'hasn',\n",
       " \"hasn't\",\n",
       " 'haven',\n",
       " \"haven't\",\n",
       " 'isn',\n",
       " \"isn't\",\n",
       " 'ma',\n",
       " 'mightn',\n",
       " \"mightn't\",\n",
       " 'mustn',\n",
       " \"mustn't\",\n",
       " 'needn',\n",
       " \"needn't\",\n",
       " 'shan',\n",
       " \"shan't\",\n",
       " 'shouldn',\n",
       " \"shouldn't\",\n",
       " 'wasn',\n",
       " \"wasn't\",\n",
       " 'weren',\n",
       " \"weren't\",\n",
       " 'won',\n",
       " \"won't\",\n",
       " 'wouldn',\n",
       " \"wouldn't\"]"
      ]
     },
     "execution_count": 10,
     "metadata": {},
     "output_type": "execute_result"
    }
   ],
   "source": [
    "stopWords"
   ]
  },
  {
   "cell_type": "markdown",
   "id": "ac28b3d2",
   "metadata": {},
   "source": [
    "<h1 style=\"color: rgb(0, 90, 90);font-size: 1.3rem; font-family: 'Trebuchet MS', 'Lucida Sans Unicode', 'Lucida Grande', 'Lucida Sans', Arial, sans-serif;font-weight: bolder;\">Initializing stemming function</h1>"
   ]
  },
  {
   "cell_type": "code",
   "execution_count": 11,
   "id": "0ee388c3",
   "metadata": {
    "execution": {
     "iopub.execute_input": "2023-05-17T22:40:54.788842Z",
     "iopub.status.busy": "2023-05-17T22:40:54.788434Z",
     "iopub.status.idle": "2023-05-17T22:40:54.794393Z",
     "shell.execute_reply": "2023-05-17T22:40:54.792966Z",
     "shell.execute_reply.started": "2023-05-17T22:40:54.788807Z"
    }
   },
   "outputs": [],
   "source": [
    "ps = PorterStemmer()"
   ]
  },
  {
   "cell_type": "markdown",
   "id": "cfc54a47",
   "metadata": {},
   "source": [
    "<h1 style=\"color: rgb(0, 90, 90);font-size: 1.3rem; font-family: 'Trebuchet MS', 'Lucida Sans Unicode', 'Lucida Grande', 'Lucida Sans', Arial, sans-serif;font-weight: bolder;\">Data Cleaning Function</h1>"
   ]
  },
  {
   "cell_type": "code",
   "execution_count": 12,
   "id": "4fa0826f",
   "metadata": {
    "execution": {
     "iopub.execute_input": "2023-05-17T22:40:55.202822Z",
     "iopub.status.busy": "2023-05-17T22:40:55.202416Z",
     "iopub.status.idle": "2023-05-17T22:40:55.211017Z",
     "shell.execute_reply": "2023-05-17T22:40:55.209738Z",
     "shell.execute_reply.started": "2023-05-17T22:40:55.202791Z"
    }
   },
   "outputs": [],
   "source": [
    "def cleaning(phrase):\n",
    "    #Turn the text to lowercase\n",
    "    text=phrase.lower()\n",
    "    #Removing the punctuation from the text\n",
    "    text=re.sub(r'[!\"#$%&()*+\\[\\],-./:;<=>?@\\\\^_`{|}~]','',text)\n",
    "    #Splitting the sentence to a list\n",
    "    text=text.split()\n",
    "    #Removing the stopwords from the text\n",
    "    text=[word for word in text if word not in stopWords]\n",
    "    text=\" \".join(text)\n",
    "    text=re.sub(r'\\'','',text)\n",
    "    #Using word_tokenize the text\n",
    "    text=word_tokenize(text)\n",
    "    #Applying the stemming\n",
    "    text=[ps.stem(word) for word in text]\n",
    "    return \" \".join(text)"
   ]
  },
  {
   "cell_type": "code",
   "execution_count": 13,
   "id": "91974073",
   "metadata": {
    "execution": {
     "iopub.execute_input": "2023-05-17T22:40:55.384722Z",
     "iopub.status.busy": "2023-05-17T22:40:55.384304Z",
     "iopub.status.idle": "2023-05-17T22:40:55.404898Z",
     "shell.execute_reply": "2023-05-17T22:40:55.403660Z",
     "shell.execute_reply.started": "2023-05-17T22:40:55.384686Z"
    }
   },
   "outputs": [
    {
     "data": {
      "text/plain": [
       "'studi togeth last week'"
      ]
     },
     "execution_count": 13,
     "metadata": {},
     "output_type": "execute_result"
    }
   ],
   "source": [
    "cleaning(\"we were studying together last week!!\")"
   ]
  },
  {
   "cell_type": "markdown",
   "id": "34a7d9cb",
   "metadata": {},
   "source": [
    "<h1 style=\"color: rgb(0, 90, 90);font-size: 1.3rem;font-family: 'Trebuchet MS', 'Lucida Sans Unicode', 'Lucida Grande', 'Lucida Sans', Arial, sans-serif;font-weight: bolder;\">Applying the cleaning Function to the Dataset</h1>"
   ]
  },
  {
   "cell_type": "code",
   "execution_count": 14,
   "id": "900514bd",
   "metadata": {
    "execution": {
     "iopub.execute_input": "2023-05-17T22:40:55.773488Z",
     "iopub.status.busy": "2023-05-17T22:40:55.772984Z",
     "iopub.status.idle": "2023-05-17T22:40:56.827267Z",
     "shell.execute_reply": "2023-05-17T22:40:56.825951Z",
     "shell.execute_reply.started": "2023-05-17T22:40:55.773448Z"
    }
   },
   "outputs": [
    {
     "name": "stderr",
     "output_type": "stream",
     "text": [
      "/tmp/ipykernel_102/3996949805.py:1: SettingWithCopyWarning: \n",
      "A value is trying to be set on a copy of a slice from a DataFrame.\n",
      "Try using .loc[row_indexer,col_indexer] = value instead\n",
      "\n",
      "See the caveats in the documentation: https://pandas.pydata.org/pandas-docs/stable/user_guide/indexing.html#returning-a-view-versus-a-copy\n",
      "  df[\"TextCleaned\"]=(df[\"Text\"].apply(lambda x:cleaning(x)))\n"
     ]
    }
   ],
   "source": [
    "df[\"TextCleaned\"]=(df[\"Text\"].apply(lambda x:cleaning(x)))"
   ]
  },
  {
   "cell_type": "markdown",
   "id": "cd7cc233",
   "metadata": {},
   "source": [
    "<h1 style=\"color: rgb(0, 90, 90);font-size: 1.3rem;font-family: 'Trebuchet MS', 'Lucida Sans Unicode', 'Lucida Grande', 'Lucida Sans', Arial, sans-serif;font-weight: bolder;\">First 5 rows of the dataFrame after applying the cleaning function</h1>"
   ]
  },
  {
   "cell_type": "code",
   "execution_count": 15,
   "id": "ca18570a",
   "metadata": {
    "execution": {
     "iopub.execute_input": "2023-05-17T22:40:56.829762Z",
     "iopub.status.busy": "2023-05-17T22:40:56.829399Z",
     "iopub.status.idle": "2023-05-17T22:40:56.841915Z",
     "shell.execute_reply": "2023-05-17T22:40:56.840445Z",
     "shell.execute_reply.started": "2023-05-17T22:40:56.829729Z"
    }
   },
   "outputs": [
    {
     "data": {
      "text/html": [
       "<div>\n",
       "<style scoped>\n",
       "    .dataframe tbody tr th:only-of-type {\n",
       "        vertical-align: middle;\n",
       "    }\n",
       "\n",
       "    .dataframe tbody tr th {\n",
       "        vertical-align: top;\n",
       "    }\n",
       "\n",
       "    .dataframe thead th {\n",
       "        text-align: right;\n",
       "    }\n",
       "</style>\n",
       "<table border=\"1\" class=\"dataframe\">\n",
       "  <thead>\n",
       "    <tr style=\"text-align: right;\">\n",
       "      <th></th>\n",
       "      <th>Text</th>\n",
       "      <th>IsToxic</th>\n",
       "      <th>TextCleaned</th>\n",
       "    </tr>\n",
       "  </thead>\n",
       "  <tbody>\n",
       "    <tr>\n",
       "      <th>0</th>\n",
       "      <td>If only people would just take a step back and...</td>\n",
       "      <td>False</td>\n",
       "      <td>peopl would take step back make case anyon exc...</td>\n",
       "    </tr>\n",
       "    <tr>\n",
       "      <th>1</th>\n",
       "      <td>Law enforcement is not trained to shoot to app...</td>\n",
       "      <td>True</td>\n",
       "      <td>law enforc train shoot apprehend train shoot k...</td>\n",
       "    </tr>\n",
       "    <tr>\n",
       "      <th>2</th>\n",
       "      <td>\\nDont you reckon them 'black lives matter' ba...</td>\n",
       "      <td>True</td>\n",
       "      <td>dont reckon black live matter banner held whit...</td>\n",
       "    </tr>\n",
       "    <tr>\n",
       "      <th>3</th>\n",
       "      <td>There are a very large number of people who do...</td>\n",
       "      <td>False</td>\n",
       "      <td>larg number peopl like polic offic call crimin...</td>\n",
       "    </tr>\n",
       "    <tr>\n",
       "      <th>4</th>\n",
       "      <td>The Arab dude is absolutely right, he should h...</td>\n",
       "      <td>False</td>\n",
       "      <td>arab dude absolut right shot 6 extra time shoo...</td>\n",
       "    </tr>\n",
       "  </tbody>\n",
       "</table>\n",
       "</div>"
      ],
      "text/plain": [
       "                                                Text  IsToxic  \\\n",
       "0  If only people would just take a step back and...    False   \n",
       "1  Law enforcement is not trained to shoot to app...     True   \n",
       "2  \\nDont you reckon them 'black lives matter' ba...     True   \n",
       "3  There are a very large number of people who do...    False   \n",
       "4  The Arab dude is absolutely right, he should h...    False   \n",
       "\n",
       "                                         TextCleaned  \n",
       "0  peopl would take step back make case anyon exc...  \n",
       "1  law enforc train shoot apprehend train shoot k...  \n",
       "2  dont reckon black live matter banner held whit...  \n",
       "3  larg number peopl like polic offic call crimin...  \n",
       "4  arab dude absolut right shot 6 extra time shoo...  "
      ]
     },
     "execution_count": 15,
     "metadata": {},
     "output_type": "execute_result"
    }
   ],
   "source": [
    "df.head()"
   ]
  },
  {
   "cell_type": "markdown",
   "id": "ba00aaa6",
   "metadata": {},
   "source": [
    "<h1 style=\"color: rgb(0, 90, 90);font-size: 1.3rem;font-family: 'Trebuchet MS', 'Lucida Sans Unicode', 'Lucida Grande', 'Lucida Sans', Arial, sans-serif;font-weight: bolder;\">Last 5 rows of the dataFrame after applying the cleaning function</h1>"
   ]
  },
  {
   "cell_type": "code",
   "execution_count": 16,
   "id": "1e878459",
   "metadata": {
    "execution": {
     "iopub.execute_input": "2023-05-17T22:40:56.844127Z",
     "iopub.status.busy": "2023-05-17T22:40:56.843766Z",
     "iopub.status.idle": "2023-05-17T22:40:56.862489Z",
     "shell.execute_reply": "2023-05-17T22:40:56.861485Z",
     "shell.execute_reply.started": "2023-05-17T22:40:56.844087Z"
    }
   },
   "outputs": [
    {
     "data": {
      "text/html": [
       "<div>\n",
       "<style scoped>\n",
       "    .dataframe tbody tr th:only-of-type {\n",
       "        vertical-align: middle;\n",
       "    }\n",
       "\n",
       "    .dataframe tbody tr th {\n",
       "        vertical-align: top;\n",
       "    }\n",
       "\n",
       "    .dataframe thead th {\n",
       "        text-align: right;\n",
       "    }\n",
       "</style>\n",
       "<table border=\"1\" class=\"dataframe\">\n",
       "  <thead>\n",
       "    <tr style=\"text-align: right;\">\n",
       "      <th></th>\n",
       "      <th>Text</th>\n",
       "      <th>IsToxic</th>\n",
       "      <th>TextCleaned</th>\n",
       "    </tr>\n",
       "  </thead>\n",
       "  <tbody>\n",
       "    <tr>\n",
       "      <th>995</th>\n",
       "      <td>I remember that they sent in the national defe...</td>\n",
       "      <td>False</td>\n",
       "      <td>rememb sent nation defenc</td>\n",
       "    </tr>\n",
       "    <tr>\n",
       "      <th>996</th>\n",
       "      <td>Stats don`t represent the problem. Race baitin...</td>\n",
       "      <td>True</td>\n",
       "      <td>stat dont repres problem race bait attitud who...</td>\n",
       "    </tr>\n",
       "    <tr>\n",
       "      <th>997</th>\n",
       "      <td>The quote from the mother... Wow that hit hard...</td>\n",
       "      <td>False</td>\n",
       "      <td>quot mother wow hit hard accur</td>\n",
       "    </tr>\n",
       "    <tr>\n",
       "      <th>998</th>\n",
       "      <td>this video is so racist</td>\n",
       "      <td>False</td>\n",
       "      <td>video racist</td>\n",
       "    </tr>\n",
       "    <tr>\n",
       "      <th>999</th>\n",
       "      <td>God, the narrator has such an annoying lisp.</td>\n",
       "      <td>False</td>\n",
       "      <td>god narrat annoy lisp</td>\n",
       "    </tr>\n",
       "  </tbody>\n",
       "</table>\n",
       "</div>"
      ],
      "text/plain": [
       "                                                  Text  IsToxic  \\\n",
       "995  I remember that they sent in the national defe...    False   \n",
       "996  Stats don`t represent the problem. Race baitin...     True   \n",
       "997  The quote from the mother... Wow that hit hard...    False   \n",
       "998                            this video is so racist    False   \n",
       "999      God, the narrator has such an annoying lisp.     False   \n",
       "\n",
       "                                           TextCleaned  \n",
       "995                          rememb sent nation defenc  \n",
       "996  stat dont repres problem race bait attitud who...  \n",
       "997                     quot mother wow hit hard accur  \n",
       "998                                       video racist  \n",
       "999                              god narrat annoy lisp  "
      ]
     },
     "execution_count": 16,
     "metadata": {},
     "output_type": "execute_result"
    }
   ],
   "source": [
    "df.tail()"
   ]
  },
  {
   "cell_type": "markdown",
   "id": "8858f9e9",
   "metadata": {},
   "source": [
    "<h1 style=\"color: rgb(0, 90, 90);font-size: 1.3rem;font-family: 'Trebuchet MS', 'Lucida Sans Unicode', 'Lucida Grande', 'Lucida Sans', Arial, sans-serif;font-weight: bolder;\">Value Counts for IsToxic column</h1>"
   ]
  },
  {
   "cell_type": "code",
   "execution_count": 17,
   "id": "2ad41773",
   "metadata": {
    "execution": {
     "iopub.execute_input": "2023-05-17T22:40:56.865174Z",
     "iopub.status.busy": "2023-05-17T22:40:56.864806Z",
     "iopub.status.idle": "2023-05-17T22:40:56.882809Z",
     "shell.execute_reply": "2023-05-17T22:40:56.881246Z",
     "shell.execute_reply.started": "2023-05-17T22:40:56.865142Z"
    }
   },
   "outputs": [
    {
     "data": {
      "text/plain": [
       "False    538\n",
       "True     462\n",
       "Name: IsToxic, dtype: int64"
      ]
     },
     "execution_count": 17,
     "metadata": {},
     "output_type": "execute_result"
    }
   ],
   "source": [
    "df[\"IsToxic\"].value_counts()"
   ]
  },
  {
   "cell_type": "markdown",
   "id": "f0a131fe",
   "metadata": {},
   "source": [
    "<h1 style=\"color: rgb(0, 90, 90);font-size: 1.3rem;font-family: 'Trebuchet MS', 'Lucida Sans Unicode', 'Lucida Grande', 'Lucida Sans', Arial, sans-serif;font-weight: bolder;\">Vectorize Text Data</h1>"
   ]
  },
  {
   "cell_type": "code",
   "execution_count": 18,
   "id": "29ef157d",
   "metadata": {
    "execution": {
     "iopub.execute_input": "2023-05-17T22:40:57.211275Z",
     "iopub.status.busy": "2023-05-17T22:40:57.210837Z",
     "iopub.status.idle": "2023-05-17T22:40:57.216290Z",
     "shell.execute_reply": "2023-05-17T22:40:57.215329Z",
     "shell.execute_reply.started": "2023-05-17T22:40:57.211219Z"
    }
   },
   "outputs": [],
   "source": [
    "tfidf = TfidfVectorizer()"
   ]
  },
  {
   "cell_type": "code",
   "execution_count": 19,
   "id": "5f78c83f",
   "metadata": {
    "execution": {
     "iopub.execute_input": "2023-05-17T22:40:58.002748Z",
     "iopub.status.busy": "2023-05-17T22:40:58.001941Z",
     "iopub.status.idle": "2023-05-17T22:40:58.077816Z",
     "shell.execute_reply": "2023-05-17T22:40:58.076556Z",
     "shell.execute_reply.started": "2023-05-17T22:40:58.002692Z"
    }
   },
   "outputs": [],
   "source": [
    "X0 = tfidf.fit_transform(df['TextCleaned'])\n",
    "X = X0.toarray()  "
   ]
  },
  {
   "cell_type": "code",
   "execution_count": 20,
   "id": "6d3ed034",
   "metadata": {
    "execution": {
     "iopub.execute_input": "2023-05-17T22:40:58.080669Z",
     "iopub.status.busy": "2023-05-17T22:40:58.080110Z",
     "iopub.status.idle": "2023-05-17T22:40:58.088496Z",
     "shell.execute_reply": "2023-05-17T22:40:58.087335Z",
     "shell.execute_reply.started": "2023-05-17T22:40:58.080623Z"
    }
   },
   "outputs": [
    {
     "data": {
      "text/plain": [
       "array([[0., 0., 0., ..., 0., 0., 0.],\n",
       "       [0., 0., 0., ..., 0., 0., 0.],\n",
       "       [0., 0., 0., ..., 0., 0., 0.],\n",
       "       ...,\n",
       "       [0., 0., 0., ..., 0., 0., 0.],\n",
       "       [0., 0., 0., ..., 0., 0., 0.],\n",
       "       [0., 0., 0., ..., 0., 0., 0.]])"
      ]
     },
     "execution_count": 20,
     "metadata": {},
     "output_type": "execute_result"
    }
   ],
   "source": [
    "X"
   ]
  },
  {
   "cell_type": "markdown",
   "id": "07f1e2e5",
   "metadata": {},
   "source": [
    "<h1 style=\"color: rgb(0, 90, 90);font-size: 1.3rem;font-family: 'Trebuchet MS', 'Lucida Sans Unicode', 'Lucida Grande', 'Lucida Sans', Arial, sans-serif;font-weight: bolder;\">K-means</h1>"
   ]
  },
  {
   "cell_type": "code",
   "execution_count": 21,
   "id": "fa1d9a1d",
   "metadata": {
    "execution": {
     "iopub.execute_input": "2023-05-17T22:40:58.759000Z",
     "iopub.status.busy": "2023-05-17T22:40:58.758568Z",
     "iopub.status.idle": "2023-05-17T22:40:58.802777Z",
     "shell.execute_reply": "2023-05-17T22:40:58.801328Z",
     "shell.execute_reply.started": "2023-05-17T22:40:58.758962Z"
    }
   },
   "outputs": [],
   "source": [
    "from sklearn.cluster import KMeans"
   ]
  },
  {
   "cell_type": "code",
   "execution_count": 22,
   "id": "eafc543c",
   "metadata": {
    "execution": {
     "iopub.execute_input": "2023-05-17T22:40:59.088441Z",
     "iopub.status.busy": "2023-05-17T22:40:59.088009Z",
     "iopub.status.idle": "2023-05-17T22:40:59.095583Z",
     "shell.execute_reply": "2023-05-17T22:40:59.094372Z",
     "shell.execute_reply.started": "2023-05-17T22:40:59.088402Z"
    }
   },
   "outputs": [
    {
     "data": {
      "text/plain": [
       "numpy.ndarray"
      ]
     },
     "execution_count": 22,
     "metadata": {},
     "output_type": "execute_result"
    }
   ],
   "source": [
    "type(X)"
   ]
  },
  {
   "cell_type": "code",
   "execution_count": 61,
   "id": "2b038576",
   "metadata": {
    "execution": {
     "iopub.execute_input": "2023-05-17T22:41:38.186402Z",
     "iopub.status.busy": "2023-05-17T22:41:38.185374Z",
     "iopub.status.idle": "2023-05-17T22:41:38.191876Z",
     "shell.execute_reply": "2023-05-17T22:41:38.190692Z",
     "shell.execute_reply.started": "2023-05-17T22:41:38.186357Z"
    }
   },
   "outputs": [],
   "source": [
    "kmeans = KMeans(n_clusters=2,init=\"random\",max_iter=535)"
   ]
  },
  {
   "cell_type": "code",
   "execution_count": 62,
   "id": "0da916b5",
   "metadata": {
    "execution": {
     "iopub.execute_input": "2023-05-17T22:41:38.389727Z",
     "iopub.status.busy": "2023-05-17T22:41:38.389315Z",
     "iopub.status.idle": "2023-05-17T22:41:39.074520Z",
     "shell.execute_reply": "2023-05-17T22:41:39.073568Z",
     "shell.execute_reply.started": "2023-05-17T22:41:38.389692Z"
    }
   },
   "outputs": [
    {
     "name": "stderr",
     "output_type": "stream",
     "text": [
      "/opt/conda/lib/python3.10/site-packages/sklearn/cluster/_kmeans.py:870: FutureWarning: The default value of `n_init` will change from 10 to 'auto' in 1.4. Set the value of `n_init` explicitly to suppress the warning\n",
      "  warnings.warn(\n"
     ]
    }
   ],
   "source": [
    "y=kmeans.fit_predict(X)"
   ]
  },
  {
   "cell_type": "code",
   "execution_count": 63,
   "id": "be16960b",
   "metadata": {
    "execution": {
     "iopub.execute_input": "2023-05-17T22:41:39.076908Z",
     "iopub.status.busy": "2023-05-17T22:41:39.076296Z",
     "iopub.status.idle": "2023-05-17T22:41:39.088158Z",
     "shell.execute_reply": "2023-05-17T22:41:39.087194Z",
     "shell.execute_reply.started": "2023-05-17T22:41:39.076871Z"
    }
   },
   "outputs": [
    {
     "data": {
      "text/plain": [
       "array([0, 0, 1, 0, 0, 0, 0, 0, 0, 0, 0, 1, 0, 0, 0, 0, 0, 0, 0, 1, 0, 0,\n",
       "       0, 0, 0, 0, 0, 0, 0, 0, 0, 0, 0, 0, 0, 0, 0, 0, 0, 0, 1, 0, 0, 0,\n",
       "       0, 0, 0, 0, 0, 1, 0, 0, 0, 0, 0, 0, 0, 0, 1, 1, 0, 0, 0, 0, 0, 0,\n",
       "       1, 0, 0, 0, 1, 1, 0, 0, 0, 0, 0, 0, 0, 0, 0, 0, 0, 0, 0, 0, 0, 0,\n",
       "       1, 0, 0, 0, 0, 0, 0, 0, 0, 0, 0, 0, 0, 0, 0, 0, 0, 0, 0, 0, 0, 1,\n",
       "       1, 0, 0, 0, 0, 1, 0, 1, 0, 0, 1, 0, 0, 0, 0, 0, 1, 0, 0, 0, 0, 0,\n",
       "       0, 0, 0, 0, 0, 0, 1, 1, 0, 0, 0, 1, 1, 0, 0, 0, 0, 0, 0, 0, 0, 0,\n",
       "       0, 0, 0, 0, 0, 0, 0, 0, 0, 0, 0, 1, 0, 0, 0, 0, 0, 0, 0, 0, 1, 1,\n",
       "       0, 0, 0, 0, 1, 0, 0, 0, 0, 0, 0, 0, 1, 1, 1, 1, 0, 0, 0, 0, 0, 1,\n",
       "       0, 0, 1, 0, 0, 1, 0, 0, 0, 0, 0, 0, 0, 0, 0, 0, 1, 0, 0, 0, 0, 0,\n",
       "       0, 0, 0, 0, 0, 0, 0, 0, 0, 0, 0, 0, 0, 0, 0, 0, 0, 0, 0, 0, 0, 0,\n",
       "       0, 0, 0, 0, 0, 0, 0, 0, 0, 0, 0, 0, 0, 1, 0, 0, 0, 1, 0, 1, 0, 0,\n",
       "       0, 0, 0, 0, 0, 0, 0, 0, 0, 0, 0, 1, 1, 0, 1, 0, 0, 0, 0, 0, 0, 0,\n",
       "       0, 1, 0, 0, 0, 0, 1, 0, 0, 0, 0, 0, 0, 0, 0, 0, 0, 0, 0, 0, 0, 0,\n",
       "       1, 0, 0, 0, 0, 0, 0, 0, 0, 0, 0, 0, 0, 0, 0, 0, 0, 0, 0, 0, 0, 0,\n",
       "       0, 0, 0, 0, 0, 0, 0, 0, 0, 0, 0, 0, 0, 0, 0, 0, 0, 0, 0, 1, 0, 0,\n",
       "       0, 0, 0, 1, 0, 0, 0, 0, 0, 0, 0, 1, 0, 0, 0, 0, 0, 0, 0, 0, 1, 0,\n",
       "       0, 0, 0, 0, 1, 0, 0, 0, 0, 0, 0, 0, 0, 0, 0, 0, 1, 0, 0, 0, 0, 0,\n",
       "       0, 0, 0, 0, 0, 0, 0, 1, 0, 0, 0, 0, 0, 0, 0, 0, 0, 0, 1, 1, 0, 0,\n",
       "       0, 0, 0, 0, 0, 0, 0, 0, 0, 0, 0, 0, 0, 0, 0, 0, 0, 0, 0, 0, 0, 0,\n",
       "       0, 0, 0, 0, 0, 0, 0, 0, 0, 1, 1, 1, 0, 0, 0, 0, 0, 1, 0, 0, 0, 0,\n",
       "       1, 0, 1, 0, 0, 0, 0, 1, 1, 0, 1, 0, 0, 0, 0, 0, 0, 0, 0, 0, 0, 1,\n",
       "       0, 0, 0, 0, 0, 0, 0, 0, 0, 0, 0, 0, 0, 0, 0, 0, 0, 0, 0, 1, 0, 0,\n",
       "       0, 0, 0, 1, 0, 0, 0, 0, 0, 0, 0, 0, 0, 0, 0, 0, 0, 0, 0, 1, 0, 0,\n",
       "       0, 0, 0, 0, 0, 0, 0, 1, 0, 0, 0, 0, 0, 0, 1, 0, 0, 0, 0, 0, 0, 0,\n",
       "       0, 0, 0, 0, 0, 0, 0, 0, 0, 0, 0, 0, 0, 0, 0, 1, 0, 0, 0, 0, 0, 0,\n",
       "       0, 0, 0, 0, 0, 0, 0, 0, 0, 0, 0, 0, 0, 1, 0, 0, 0, 0, 0, 0, 0, 1,\n",
       "       0, 0, 0, 0, 0, 0, 0, 0, 1, 0, 0, 0, 0, 0, 0, 0, 0, 0, 0, 0, 0, 0,\n",
       "       0, 0, 0, 1, 0, 0, 0, 0, 0, 0, 0, 0, 0, 1, 0, 0, 0, 0, 1, 0, 0, 0,\n",
       "       0, 0, 0, 0, 0, 0, 0, 0, 0, 0, 0, 0, 1, 0, 0, 0, 0, 0, 0, 0, 1, 0,\n",
       "       0, 0, 0, 0, 0, 0, 0, 0, 0, 0, 0, 1, 0, 0, 0, 0, 0, 0, 0, 0, 0, 0,\n",
       "       0, 0, 1, 0, 0, 0, 0, 0, 0, 0, 0, 0, 0, 0, 0, 0, 0, 0, 0, 1, 0, 0,\n",
       "       0, 0, 1, 0, 0, 0, 0, 0, 0, 0, 0, 0, 0, 0, 0, 0, 0, 0, 1, 0, 0, 0,\n",
       "       0, 0, 1, 0, 0, 0, 1, 0, 1, 0, 1, 0, 0, 1, 0, 1, 0, 0, 1, 0, 1, 0,\n",
       "       0, 0, 0, 1, 0, 0, 1, 0, 1, 1, 0, 0, 1, 0, 0, 0, 0, 1, 0, 1, 1, 0,\n",
       "       0, 0, 0, 0, 0, 0, 0, 0, 0, 0, 0, 0, 1, 1, 0, 0, 0, 0, 0, 1, 0, 0,\n",
       "       0, 1, 0, 0, 0, 0, 0, 1, 1, 1, 1, 0, 1, 0, 0, 1, 0, 1, 0, 0, 0, 1,\n",
       "       0, 1, 0, 0, 0, 0, 0, 0, 0, 1, 1, 0, 1, 0, 1, 1, 0, 0, 0, 0, 1, 1,\n",
       "       1, 0, 0, 0, 0, 0, 1, 0, 0, 0, 0, 0, 0, 0, 0, 0, 0, 0, 0, 0, 0, 1,\n",
       "       0, 0, 1, 0, 0, 1, 0, 0, 0, 1, 0, 0, 0, 0, 0, 0, 0, 0, 0, 0, 0, 0,\n",
       "       0, 0, 0, 0, 0, 0, 1, 1, 0, 1, 0, 0, 1, 0, 0, 0, 0, 0, 0, 0, 0, 0,\n",
       "       1, 1, 1, 0, 0, 0, 0, 0, 0, 0, 0, 0, 0, 0, 0, 0, 0, 0, 0, 1, 0, 0,\n",
       "       0, 0, 0, 1, 0, 1, 1, 0, 0, 0, 0, 0, 0, 0, 0, 0, 0, 0, 1, 1, 1, 0,\n",
       "       0, 1, 0, 0, 0, 0, 0, 0, 1, 1, 0, 0, 0, 0, 0, 0, 0, 0, 0, 0, 0, 0,\n",
       "       0, 0, 0, 0, 0, 1, 1, 0, 1, 0, 0, 1, 0, 0, 0, 0, 0, 0, 0, 0, 0, 0,\n",
       "       0, 1, 0, 0, 0, 0, 0, 0, 0, 0], dtype=int32)"
      ]
     },
     "execution_count": 63,
     "metadata": {},
     "output_type": "execute_result"
    }
   ],
   "source": [
    "X_kmeans = kmeans.labels_\n",
    "X_kmeans"
   ]
  },
  {
   "cell_type": "code",
   "execution_count": 64,
   "id": "95bb9d60",
   "metadata": {
    "execution": {
     "iopub.execute_input": "2023-05-17T22:41:39.138047Z",
     "iopub.status.busy": "2023-05-17T22:41:39.137414Z",
     "iopub.status.idle": "2023-05-17T22:41:39.144176Z",
     "shell.execute_reply": "2023-05-17T22:41:39.142947Z",
     "shell.execute_reply.started": "2023-05-17T22:41:39.138007Z"
    }
   },
   "outputs": [
    {
     "name": "stderr",
     "output_type": "stream",
     "text": [
      "/tmp/ipykernel_102/4160701663.py:1: SettingWithCopyWarning: \n",
      "A value is trying to be set on a copy of a slice from a DataFrame.\n",
      "Try using .loc[row_indexer,col_indexer] = value instead\n",
      "\n",
      "See the caveats in the documentation: https://pandas.pydata.org/pandas-docs/stable/user_guide/indexing.html#returning-a-view-versus-a-copy\n",
      "  df[\"prediction\"]=X_kmeans\n"
     ]
    }
   ],
   "source": [
    "df[\"prediction\"]=X_kmeans"
   ]
  },
  {
   "cell_type": "code",
   "execution_count": 65,
   "id": "3ffb2397",
   "metadata": {
    "execution": {
     "iopub.execute_input": "2023-05-17T22:41:39.264912Z",
     "iopub.status.busy": "2023-05-17T22:41:39.264434Z",
     "iopub.status.idle": "2023-05-17T22:41:39.278812Z",
     "shell.execute_reply": "2023-05-17T22:41:39.277444Z",
     "shell.execute_reply.started": "2023-05-17T22:41:39.264871Z"
    }
   },
   "outputs": [
    {
     "data": {
      "text/html": [
       "<div>\n",
       "<style scoped>\n",
       "    .dataframe tbody tr th:only-of-type {\n",
       "        vertical-align: middle;\n",
       "    }\n",
       "\n",
       "    .dataframe tbody tr th {\n",
       "        vertical-align: top;\n",
       "    }\n",
       "\n",
       "    .dataframe thead th {\n",
       "        text-align: right;\n",
       "    }\n",
       "</style>\n",
       "<table border=\"1\" class=\"dataframe\">\n",
       "  <thead>\n",
       "    <tr style=\"text-align: right;\">\n",
       "      <th></th>\n",
       "      <th>Text</th>\n",
       "      <th>IsToxic</th>\n",
       "      <th>TextCleaned</th>\n",
       "      <th>prediction</th>\n",
       "    </tr>\n",
       "  </thead>\n",
       "  <tbody>\n",
       "    <tr>\n",
       "      <th>0</th>\n",
       "      <td>If only people would just take a step back and...</td>\n",
       "      <td>False</td>\n",
       "      <td>peopl would take step back make case anyon exc...</td>\n",
       "      <td>0</td>\n",
       "    </tr>\n",
       "    <tr>\n",
       "      <th>1</th>\n",
       "      <td>Law enforcement is not trained to shoot to app...</td>\n",
       "      <td>True</td>\n",
       "      <td>law enforc train shoot apprehend train shoot k...</td>\n",
       "      <td>0</td>\n",
       "    </tr>\n",
       "    <tr>\n",
       "      <th>2</th>\n",
       "      <td>\\nDont you reckon them 'black lives matter' ba...</td>\n",
       "      <td>True</td>\n",
       "      <td>dont reckon black live matter banner held whit...</td>\n",
       "      <td>1</td>\n",
       "    </tr>\n",
       "    <tr>\n",
       "      <th>3</th>\n",
       "      <td>There are a very large number of people who do...</td>\n",
       "      <td>False</td>\n",
       "      <td>larg number peopl like polic offic call crimin...</td>\n",
       "      <td>0</td>\n",
       "    </tr>\n",
       "    <tr>\n",
       "      <th>4</th>\n",
       "      <td>The Arab dude is absolutely right, he should h...</td>\n",
       "      <td>False</td>\n",
       "      <td>arab dude absolut right shot 6 extra time shoo...</td>\n",
       "      <td>0</td>\n",
       "    </tr>\n",
       "  </tbody>\n",
       "</table>\n",
       "</div>"
      ],
      "text/plain": [
       "                                                Text IsToxic  \\\n",
       "0  If only people would just take a step back and...   False   \n",
       "1  Law enforcement is not trained to shoot to app...    True   \n",
       "2  \\nDont you reckon them 'black lives matter' ba...    True   \n",
       "3  There are a very large number of people who do...   False   \n",
       "4  The Arab dude is absolutely right, he should h...   False   \n",
       "\n",
       "                                         TextCleaned  prediction  \n",
       "0  peopl would take step back make case anyon exc...           0  \n",
       "1  law enforc train shoot apprehend train shoot k...           0  \n",
       "2  dont reckon black live matter banner held whit...           1  \n",
       "3  larg number peopl like polic offic call crimin...           0  \n",
       "4  arab dude absolut right shot 6 extra time shoo...           0  "
      ]
     },
     "execution_count": 65,
     "metadata": {},
     "output_type": "execute_result"
    }
   ],
   "source": [
    "df.head()"
   ]
  },
  {
   "cell_type": "code",
   "execution_count": 66,
   "id": "e5d59fba",
   "metadata": {
    "execution": {
     "iopub.execute_input": "2023-05-17T22:41:39.793888Z",
     "iopub.status.busy": "2023-05-17T22:41:39.793493Z",
     "iopub.status.idle": "2023-05-17T22:41:39.806926Z",
     "shell.execute_reply": "2023-05-17T22:41:39.805716Z",
     "shell.execute_reply.started": "2023-05-17T22:41:39.793857Z"
    }
   },
   "outputs": [
    {
     "data": {
      "text/html": [
       "<div>\n",
       "<style scoped>\n",
       "    .dataframe tbody tr th:only-of-type {\n",
       "        vertical-align: middle;\n",
       "    }\n",
       "\n",
       "    .dataframe tbody tr th {\n",
       "        vertical-align: top;\n",
       "    }\n",
       "\n",
       "    .dataframe thead th {\n",
       "        text-align: right;\n",
       "    }\n",
       "</style>\n",
       "<table border=\"1\" class=\"dataframe\">\n",
       "  <thead>\n",
       "    <tr style=\"text-align: right;\">\n",
       "      <th></th>\n",
       "      <th>Text</th>\n",
       "      <th>IsToxic</th>\n",
       "      <th>TextCleaned</th>\n",
       "      <th>prediction</th>\n",
       "    </tr>\n",
       "  </thead>\n",
       "  <tbody>\n",
       "    <tr>\n",
       "      <th>995</th>\n",
       "      <td>I remember that they sent in the national defe...</td>\n",
       "      <td>False</td>\n",
       "      <td>rememb sent nation defenc</td>\n",
       "      <td>0</td>\n",
       "    </tr>\n",
       "    <tr>\n",
       "      <th>996</th>\n",
       "      <td>Stats don`t represent the problem. Race baitin...</td>\n",
       "      <td>True</td>\n",
       "      <td>stat dont repres problem race bait attitud who...</td>\n",
       "      <td>0</td>\n",
       "    </tr>\n",
       "    <tr>\n",
       "      <th>997</th>\n",
       "      <td>The quote from the mother... Wow that hit hard...</td>\n",
       "      <td>False</td>\n",
       "      <td>quot mother wow hit hard accur</td>\n",
       "      <td>0</td>\n",
       "    </tr>\n",
       "    <tr>\n",
       "      <th>998</th>\n",
       "      <td>this video is so racist</td>\n",
       "      <td>False</td>\n",
       "      <td>video racist</td>\n",
       "      <td>0</td>\n",
       "    </tr>\n",
       "    <tr>\n",
       "      <th>999</th>\n",
       "      <td>God, the narrator has such an annoying lisp.</td>\n",
       "      <td>False</td>\n",
       "      <td>god narrat annoy lisp</td>\n",
       "      <td>0</td>\n",
       "    </tr>\n",
       "  </tbody>\n",
       "</table>\n",
       "</div>"
      ],
      "text/plain": [
       "                                                  Text IsToxic  \\\n",
       "995  I remember that they sent in the national defe...   False   \n",
       "996  Stats don`t represent the problem. Race baitin...    True   \n",
       "997  The quote from the mother... Wow that hit hard...   False   \n",
       "998                            this video is so racist   False   \n",
       "999      God, the narrator has such an annoying lisp.    False   \n",
       "\n",
       "                                           TextCleaned  prediction  \n",
       "995                          rememb sent nation defenc           0  \n",
       "996  stat dont repres problem race bait attitud who...           0  \n",
       "997                     quot mother wow hit hard accur           0  \n",
       "998                                       video racist           0  \n",
       "999                              god narrat annoy lisp           0  "
      ]
     },
     "execution_count": 66,
     "metadata": {},
     "output_type": "execute_result"
    }
   ],
   "source": [
    "df.tail()"
   ]
  },
  {
   "cell_type": "code",
   "execution_count": 67,
   "id": "e9ced779",
   "metadata": {
    "execution": {
     "iopub.execute_input": "2023-05-17T22:41:40.292473Z",
     "iopub.status.busy": "2023-05-17T22:41:40.292046Z",
     "iopub.status.idle": "2023-05-17T22:41:40.300946Z",
     "shell.execute_reply": "2023-05-17T22:41:40.299662Z",
     "shell.execute_reply.started": "2023-05-17T22:41:40.292434Z"
    }
   },
   "outputs": [],
   "source": [
    "df.loc[df['IsToxic']=='False','IsToxic']=0\n",
    "df.loc[df['IsToxic']=='True','IsToxic']=1"
   ]
  },
  {
   "cell_type": "code",
   "execution_count": 68,
   "id": "798ffce7",
   "metadata": {
    "execution": {
     "iopub.execute_input": "2023-05-17T22:41:40.484883Z",
     "iopub.status.busy": "2023-05-17T22:41:40.484439Z",
     "iopub.status.idle": "2023-05-17T22:41:40.499951Z",
     "shell.execute_reply": "2023-05-17T22:41:40.498331Z",
     "shell.execute_reply.started": "2023-05-17T22:41:40.484842Z"
    }
   },
   "outputs": [
    {
     "data": {
      "text/html": [
       "<div>\n",
       "<style scoped>\n",
       "    .dataframe tbody tr th:only-of-type {\n",
       "        vertical-align: middle;\n",
       "    }\n",
       "\n",
       "    .dataframe tbody tr th {\n",
       "        vertical-align: top;\n",
       "    }\n",
       "\n",
       "    .dataframe thead th {\n",
       "        text-align: right;\n",
       "    }\n",
       "</style>\n",
       "<table border=\"1\" class=\"dataframe\">\n",
       "  <thead>\n",
       "    <tr style=\"text-align: right;\">\n",
       "      <th></th>\n",
       "      <th>Text</th>\n",
       "      <th>IsToxic</th>\n",
       "      <th>TextCleaned</th>\n",
       "      <th>prediction</th>\n",
       "    </tr>\n",
       "  </thead>\n",
       "  <tbody>\n",
       "    <tr>\n",
       "      <th>995</th>\n",
       "      <td>I remember that they sent in the national defe...</td>\n",
       "      <td>False</td>\n",
       "      <td>rememb sent nation defenc</td>\n",
       "      <td>0</td>\n",
       "    </tr>\n",
       "    <tr>\n",
       "      <th>996</th>\n",
       "      <td>Stats don`t represent the problem. Race baitin...</td>\n",
       "      <td>True</td>\n",
       "      <td>stat dont repres problem race bait attitud who...</td>\n",
       "      <td>0</td>\n",
       "    </tr>\n",
       "    <tr>\n",
       "      <th>997</th>\n",
       "      <td>The quote from the mother... Wow that hit hard...</td>\n",
       "      <td>False</td>\n",
       "      <td>quot mother wow hit hard accur</td>\n",
       "      <td>0</td>\n",
       "    </tr>\n",
       "    <tr>\n",
       "      <th>998</th>\n",
       "      <td>this video is so racist</td>\n",
       "      <td>False</td>\n",
       "      <td>video racist</td>\n",
       "      <td>0</td>\n",
       "    </tr>\n",
       "    <tr>\n",
       "      <th>999</th>\n",
       "      <td>God, the narrator has such an annoying lisp.</td>\n",
       "      <td>False</td>\n",
       "      <td>god narrat annoy lisp</td>\n",
       "      <td>0</td>\n",
       "    </tr>\n",
       "  </tbody>\n",
       "</table>\n",
       "</div>"
      ],
      "text/plain": [
       "                                                  Text IsToxic  \\\n",
       "995  I remember that they sent in the national defe...   False   \n",
       "996  Stats don`t represent the problem. Race baitin...    True   \n",
       "997  The quote from the mother... Wow that hit hard...   False   \n",
       "998                            this video is so racist   False   \n",
       "999      God, the narrator has such an annoying lisp.    False   \n",
       "\n",
       "                                           TextCleaned  prediction  \n",
       "995                          rememb sent nation defenc           0  \n",
       "996  stat dont repres problem race bait attitud who...           0  \n",
       "997                     quot mother wow hit hard accur           0  \n",
       "998                                       video racist           0  \n",
       "999                              god narrat annoy lisp           0  "
      ]
     },
     "execution_count": 68,
     "metadata": {},
     "output_type": "execute_result"
    }
   ],
   "source": [
    "df.tail()"
   ]
  },
  {
   "cell_type": "code",
   "execution_count": 72,
   "id": "e4350baa",
   "metadata": {
    "execution": {
     "iopub.execute_input": "2023-05-17T22:42:08.837459Z",
     "iopub.status.busy": "2023-05-17T22:42:08.836647Z",
     "iopub.status.idle": "2023-05-17T22:42:08.910882Z",
     "shell.execute_reply": "2023-05-17T22:42:08.909743Z",
     "shell.execute_reply.started": "2023-05-17T22:42:08.837421Z"
    }
   },
   "outputs": [
    {
     "name": "stdout",
     "output_type": "stream",
     "text": [
      "552 correct prediction\n"
     ]
    }
   ],
   "source": [
    "s=0\n",
    "for index, row in df.iterrows():\n",
    "    if row[\"IsToxic\"]==row[\"prediction\"]:\n",
    "        s+=1\n",
    "print(s,\"correct prediction\")"
   ]
  },
  {
   "cell_type": "code",
   "execution_count": null,
   "id": "ef2fa7a8",
   "metadata": {},
   "outputs": [],
   "source": []
  }
 ],
 "metadata": {
  "kernelspec": {
   "display_name": "Python 3",
   "language": "python",
   "name": "python3"
  },
  "language_info": {
   "codemirror_mode": {
    "name": "ipython",
    "version": 3
   },
   "file_extension": ".py",
   "mimetype": "text/x-python",
   "name": "python",
   "nbconvert_exporter": "python",
   "pygments_lexer": "ipython3",
   "version": "3.8.8"
  }
 },
 "nbformat": 4,
 "nbformat_minor": 5
}
